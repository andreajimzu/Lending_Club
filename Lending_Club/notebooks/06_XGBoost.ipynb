{
 "cells": [
  {
   "cell_type": "markdown",
   "metadata": {},
   "source": [
    "* Authors: Andrea Jiménez Zuñiga e Isabel Afán de Ribera\n",
    "* Date: 04/12/2020\n",
    "* Institution: CUNEF"
   ]
  },
  {
   "cell_type": "markdown",
   "metadata": {},
   "source": [
    "# 06. XGBOOST"
   ]
  },
  {
   "cell_type": "markdown",
   "metadata": {},
   "source": [
    "To validate our model is necessary to split the data set in a training and test set. To do this, the data is randomly divided by applying 80% of the observations to training and the remaining 20% to test."
   ]
  },
  {
   "cell_type": "code",
   "execution_count": 1,
   "metadata": {},
   "outputs": [],
   "source": [
    "import pandas as pd\n",
    "import numpy as np\n",
    "from sklearn.model_selection import train_test_split\n",
    "import xgboost as xgb\n",
    "from sklearn.metrics import accuracy_score\n",
    "import pickle"
   ]
  },
  {
   "cell_type": "markdown",
   "metadata": {},
   "source": [
    "* __Reading the Data File__ "
   ]
  },
  {
   "cell_type": "code",
   "execution_count": 2,
   "metadata": {},
   "outputs": [
    {
     "data": {
      "text/html": [
       "<div>\n",
       "<style scoped>\n",
       "    .dataframe tbody tr th:only-of-type {\n",
       "        vertical-align: middle;\n",
       "    }\n",
       "\n",
       "    .dataframe tbody tr th {\n",
       "        vertical-align: top;\n",
       "    }\n",
       "\n",
       "    .dataframe thead th {\n",
       "        text-align: right;\n",
       "    }\n",
       "</style>\n",
       "<table border=\"1\" class=\"dataframe\">\n",
       "  <thead>\n",
       "    <tr style=\"text-align: right;\">\n",
       "      <th></th>\n",
       "      <th>term</th>\n",
       "      <th>loan_amnt</th>\n",
       "      <th>installment</th>\n",
       "      <th>int_rate</th>\n",
       "      <th>annual_inc</th>\n",
       "      <th>emp_length</th>\n",
       "      <th>revol_util</th>\n",
       "      <th>revol_bal</th>\n",
       "      <th>pub_rec</th>\n",
       "      <th>open_acc</th>\n",
       "      <th>...</th>\n",
       "      <th>pub_rec_bankruptcies</th>\n",
       "      <th>funded_amnt_inv</th>\n",
       "      <th>funded_amnt</th>\n",
       "      <th>total_pymnt</th>\n",
       "      <th>loan_status</th>\n",
       "      <th>home_ownership</th>\n",
       "      <th>purpose</th>\n",
       "      <th>grade</th>\n",
       "      <th>sub_grade</th>\n",
       "      <th>verification_status</th>\n",
       "    </tr>\n",
       "  </thead>\n",
       "  <tbody>\n",
       "    <tr>\n",
       "      <th>0</th>\n",
       "      <td>-0.598017</td>\n",
       "      <td>-0.358869</td>\n",
       "      <td>-0.324389</td>\n",
       "      <td>-1.326914</td>\n",
       "      <td>1.171580</td>\n",
       "      <td>-0.024876</td>\n",
       "      <td>-1.280531</td>\n",
       "      <td>-0.348224</td>\n",
       "      <td>1.201397</td>\n",
       "      <td>1.496916</td>\n",
       "      <td>...</td>\n",
       "      <td>2.147209</td>\n",
       "      <td>-0.358375</td>\n",
       "      <td>-0.358869</td>\n",
       "      <td>-0.269064</td>\n",
       "      <td>1.0</td>\n",
       "      <td>2.0</td>\n",
       "      <td>1.0</td>\n",
       "      <td>0.0</td>\n",
       "      <td>3.0</td>\n",
       "      <td>0.0</td>\n",
       "    </tr>\n",
       "    <tr>\n",
       "      <th>1</th>\n",
       "      <td>-0.598017</td>\n",
       "      <td>-0.871890</td>\n",
       "      <td>-0.614953</td>\n",
       "      <td>2.544662</td>\n",
       "      <td>-0.387948</td>\n",
       "      <td>-1.181062</td>\n",
       "      <td>1.913435</td>\n",
       "      <td>-0.572315</td>\n",
       "      <td>-0.377537</td>\n",
       "      <td>-1.427104</td>\n",
       "      <td>...</td>\n",
       "      <td>-0.371165</td>\n",
       "      <td>-0.871593</td>\n",
       "      <td>-0.871890</td>\n",
       "      <td>-0.722452</td>\n",
       "      <td>1.0</td>\n",
       "      <td>3.0</td>\n",
       "      <td>2.0</td>\n",
       "      <td>4.0</td>\n",
       "      <td>22.0</td>\n",
       "      <td>1.0</td>\n",
       "    </tr>\n",
       "    <tr>\n",
       "      <th>2</th>\n",
       "      <td>-0.598017</td>\n",
       "      <td>-0.836712</td>\n",
       "      <td>-0.823949</td>\n",
       "      <td>-1.326914</td>\n",
       "      <td>0.520515</td>\n",
       "      <td>0.264170</td>\n",
       "      <td>-1.091911</td>\n",
       "      <td>0.316323</td>\n",
       "      <td>-0.377537</td>\n",
       "      <td>1.314164</td>\n",
       "      <td>...</td>\n",
       "      <td>-0.371165</td>\n",
       "      <td>-0.836401</td>\n",
       "      <td>-0.836712</td>\n",
       "      <td>-0.678555</td>\n",
       "      <td>1.0</td>\n",
       "      <td>1.0</td>\n",
       "      <td>2.0</td>\n",
       "      <td>0.0</td>\n",
       "      <td>3.0</td>\n",
       "      <td>0.0</td>\n",
       "    </tr>\n",
       "    <tr>\n",
       "      <th>3</th>\n",
       "      <td>1.672193</td>\n",
       "      <td>-0.543557</td>\n",
       "      <td>-0.782474</td>\n",
       "      <td>0.591176</td>\n",
       "      <td>-0.357984</td>\n",
       "      <td>0.264170</td>\n",
       "      <td>-1.393703</td>\n",
       "      <td>-0.474730</td>\n",
       "      <td>2.780331</td>\n",
       "      <td>0.583159</td>\n",
       "      <td>...</td>\n",
       "      <td>4.665582</td>\n",
       "      <td>-0.543133</td>\n",
       "      <td>-0.543557</td>\n",
       "      <td>-0.438391</td>\n",
       "      <td>1.0</td>\n",
       "      <td>3.0</td>\n",
       "      <td>2.0</td>\n",
       "      <td>2.0</td>\n",
       "      <td>14.0</td>\n",
       "      <td>1.0</td>\n",
       "    </tr>\n",
       "    <tr>\n",
       "      <th>4</th>\n",
       "      <td>-0.598017</td>\n",
       "      <td>-0.074509</td>\n",
       "      <td>0.201280</td>\n",
       "      <td>0.591176</td>\n",
       "      <td>-0.009422</td>\n",
       "      <td>0.264170</td>\n",
       "      <td>1.540387</td>\n",
       "      <td>-0.610936</td>\n",
       "      <td>-0.377537</td>\n",
       "      <td>-1.427104</td>\n",
       "      <td>...</td>\n",
       "      <td>-0.371165</td>\n",
       "      <td>-0.073905</td>\n",
       "      <td>-0.074509</td>\n",
       "      <td>-0.000405</td>\n",
       "      <td>1.0</td>\n",
       "      <td>1.0</td>\n",
       "      <td>2.0</td>\n",
       "      <td>2.0</td>\n",
       "      <td>14.0</td>\n",
       "      <td>2.0</td>\n",
       "    </tr>\n",
       "    <tr>\n",
       "      <th>...</th>\n",
       "      <td>...</td>\n",
       "      <td>...</td>\n",
       "      <td>...</td>\n",
       "      <td>...</td>\n",
       "      <td>...</td>\n",
       "      <td>...</td>\n",
       "      <td>...</td>\n",
       "      <td>...</td>\n",
       "      <td>...</td>\n",
       "      <td>...</td>\n",
       "      <td>...</td>\n",
       "      <td>...</td>\n",
       "      <td>...</td>\n",
       "      <td>...</td>\n",
       "      <td>...</td>\n",
       "      <td>...</td>\n",
       "      <td>...</td>\n",
       "      <td>...</td>\n",
       "      <td>...</td>\n",
       "      <td>...</td>\n",
       "      <td>...</td>\n",
       "    </tr>\n",
       "    <tr>\n",
       "      <th>462186</th>\n",
       "      <td>-0.598017</td>\n",
       "      <td>-0.358869</td>\n",
       "      <td>-0.145256</td>\n",
       "      <td>0.496045</td>\n",
       "      <td>-0.760418</td>\n",
       "      <td>1.131309</td>\n",
       "      <td>0.492498</td>\n",
       "      <td>0.088101</td>\n",
       "      <td>-0.377537</td>\n",
       "      <td>-0.513348</td>\n",
       "      <td>...</td>\n",
       "      <td>-0.371165</td>\n",
       "      <td>-0.358375</td>\n",
       "      <td>-0.358869</td>\n",
       "      <td>-0.040532</td>\n",
       "      <td>1.0</td>\n",
       "      <td>3.0</td>\n",
       "      <td>1.0</td>\n",
       "      <td>3.0</td>\n",
       "      <td>15.0</td>\n",
       "      <td>2.0</td>\n",
       "    </tr>\n",
       "    <tr>\n",
       "      <th>462187</th>\n",
       "      <td>-0.598017</td>\n",
       "      <td>-0.309033</td>\n",
       "      <td>-0.169311</td>\n",
       "      <td>-0.300393</td>\n",
       "      <td>-0.191114</td>\n",
       "      <td>-1.470109</td>\n",
       "      <td>0.689501</td>\n",
       "      <td>0.215820</td>\n",
       "      <td>-0.377537</td>\n",
       "      <td>0.217657</td>\n",
       "      <td>...</td>\n",
       "      <td>-0.371165</td>\n",
       "      <td>-0.308519</td>\n",
       "      <td>-0.309033</td>\n",
       "      <td>-0.928097</td>\n",
       "      <td>0.0</td>\n",
       "      <td>1.0</td>\n",
       "      <td>1.0</td>\n",
       "      <td>1.0</td>\n",
       "      <td>9.0</td>\n",
       "      <td>2.0</td>\n",
       "    </tr>\n",
       "    <tr>\n",
       "      <th>462188</th>\n",
       "      <td>1.672193</td>\n",
       "      <td>-0.191771</td>\n",
       "      <td>-0.494991</td>\n",
       "      <td>0.584539</td>\n",
       "      <td>-0.615064</td>\n",
       "      <td>-0.313923</td>\n",
       "      <td>0.337410</td>\n",
       "      <td>-0.236808</td>\n",
       "      <td>1.201397</td>\n",
       "      <td>-0.513348</td>\n",
       "      <td>...</td>\n",
       "      <td>2.147209</td>\n",
       "      <td>-0.191212</td>\n",
       "      <td>-0.191771</td>\n",
       "      <td>-0.832939</td>\n",
       "      <td>0.0</td>\n",
       "      <td>3.0</td>\n",
       "      <td>2.0</td>\n",
       "      <td>3.0</td>\n",
       "      <td>16.0</td>\n",
       "      <td>2.0</td>\n",
       "    </tr>\n",
       "    <tr>\n",
       "      <th>462189</th>\n",
       "      <td>1.672193</td>\n",
       "      <td>-0.309033</td>\n",
       "      <td>-0.487920</td>\n",
       "      <td>1.469470</td>\n",
       "      <td>-0.169917</td>\n",
       "      <td>-1.470109</td>\n",
       "      <td>-0.949398</td>\n",
       "      <td>-0.361517</td>\n",
       "      <td>-0.377537</td>\n",
       "      <td>0.948662</td>\n",
       "      <td>...</td>\n",
       "      <td>-0.371165</td>\n",
       "      <td>-0.308519</td>\n",
       "      <td>-0.309033</td>\n",
       "      <td>-0.907729</td>\n",
       "      <td>0.0</td>\n",
       "      <td>3.0</td>\n",
       "      <td>2.0</td>\n",
       "      <td>4.0</td>\n",
       "      <td>22.0</td>\n",
       "      <td>1.0</td>\n",
       "    </tr>\n",
       "    <tr>\n",
       "      <th>462190</th>\n",
       "      <td>-0.598017</td>\n",
       "      <td>0.629062</td>\n",
       "      <td>0.880132</td>\n",
       "      <td>-0.300393</td>\n",
       "      <td>0.369104</td>\n",
       "      <td>1.131309</td>\n",
       "      <td>1.112848</td>\n",
       "      <td>0.761720</td>\n",
       "      <td>1.201397</td>\n",
       "      <td>-0.696099</td>\n",
       "      <td>...</td>\n",
       "      <td>-0.371165</td>\n",
       "      <td>0.629938</td>\n",
       "      <td>0.629062</td>\n",
       "      <td>0.942384</td>\n",
       "      <td>1.0</td>\n",
       "      <td>3.0</td>\n",
       "      <td>1.0</td>\n",
       "      <td>1.0</td>\n",
       "      <td>9.0</td>\n",
       "      <td>2.0</td>\n",
       "    </tr>\n",
       "  </tbody>\n",
       "</table>\n",
       "<p>462191 rows × 25 columns</p>\n",
       "</div>"
      ],
      "text/plain": [
       "            term  loan_amnt  installment  int_rate  annual_inc  emp_length  \\\n",
       "0      -0.598017  -0.358869    -0.324389 -1.326914    1.171580   -0.024876   \n",
       "1      -0.598017  -0.871890    -0.614953  2.544662   -0.387948   -1.181062   \n",
       "2      -0.598017  -0.836712    -0.823949 -1.326914    0.520515    0.264170   \n",
       "3       1.672193  -0.543557    -0.782474  0.591176   -0.357984    0.264170   \n",
       "4      -0.598017  -0.074509     0.201280  0.591176   -0.009422    0.264170   \n",
       "...          ...        ...          ...       ...         ...         ...   \n",
       "462186 -0.598017  -0.358869    -0.145256  0.496045   -0.760418    1.131309   \n",
       "462187 -0.598017  -0.309033    -0.169311 -0.300393   -0.191114   -1.470109   \n",
       "462188  1.672193  -0.191771    -0.494991  0.584539   -0.615064   -0.313923   \n",
       "462189  1.672193  -0.309033    -0.487920  1.469470   -0.169917   -1.470109   \n",
       "462190 -0.598017   0.629062     0.880132 -0.300393    0.369104    1.131309   \n",
       "\n",
       "        revol_util  revol_bal   pub_rec  open_acc  ...  pub_rec_bankruptcies  \\\n",
       "0        -1.280531  -0.348224  1.201397  1.496916  ...              2.147209   \n",
       "1         1.913435  -0.572315 -0.377537 -1.427104  ...             -0.371165   \n",
       "2        -1.091911   0.316323 -0.377537  1.314164  ...             -0.371165   \n",
       "3        -1.393703  -0.474730  2.780331  0.583159  ...              4.665582   \n",
       "4         1.540387  -0.610936 -0.377537 -1.427104  ...             -0.371165   \n",
       "...            ...        ...       ...       ...  ...                   ...   \n",
       "462186    0.492498   0.088101 -0.377537 -0.513348  ...             -0.371165   \n",
       "462187    0.689501   0.215820 -0.377537  0.217657  ...             -0.371165   \n",
       "462188    0.337410  -0.236808  1.201397 -0.513348  ...              2.147209   \n",
       "462189   -0.949398  -0.361517 -0.377537  0.948662  ...             -0.371165   \n",
       "462190    1.112848   0.761720  1.201397 -0.696099  ...             -0.371165   \n",
       "\n",
       "        funded_amnt_inv  funded_amnt  total_pymnt  loan_status  \\\n",
       "0             -0.358375    -0.358869    -0.269064          1.0   \n",
       "1             -0.871593    -0.871890    -0.722452          1.0   \n",
       "2             -0.836401    -0.836712    -0.678555          1.0   \n",
       "3             -0.543133    -0.543557    -0.438391          1.0   \n",
       "4             -0.073905    -0.074509    -0.000405          1.0   \n",
       "...                 ...          ...          ...          ...   \n",
       "462186        -0.358375    -0.358869    -0.040532          1.0   \n",
       "462187        -0.308519    -0.309033    -0.928097          0.0   \n",
       "462188        -0.191212    -0.191771    -0.832939          0.0   \n",
       "462189        -0.308519    -0.309033    -0.907729          0.0   \n",
       "462190         0.629938     0.629062     0.942384          1.0   \n",
       "\n",
       "        home_ownership  purpose  grade  sub_grade  verification_status  \n",
       "0                  2.0      1.0    0.0        3.0                  0.0  \n",
       "1                  3.0      2.0    4.0       22.0                  1.0  \n",
       "2                  1.0      2.0    0.0        3.0                  0.0  \n",
       "3                  3.0      2.0    2.0       14.0                  1.0  \n",
       "4                  1.0      2.0    2.0       14.0                  2.0  \n",
       "...                ...      ...    ...        ...                  ...  \n",
       "462186             3.0      1.0    3.0       15.0                  2.0  \n",
       "462187             1.0      1.0    1.0        9.0                  2.0  \n",
       "462188             3.0      2.0    3.0       16.0                  2.0  \n",
       "462189             3.0      2.0    4.0       22.0                  1.0  \n",
       "462190             3.0      1.0    1.0        9.0                  2.0  \n",
       "\n",
       "[462191 rows x 25 columns]"
      ]
     },
     "execution_count": 2,
     "metadata": {},
     "output_type": "execute_result"
    }
   ],
   "source": [
    "data_path = './data/Engineering_loans_final.csv'\n",
    "loans = pd.read_csv(data_path)\n",
    "loans"
   ]
  },
  {
   "cell_type": "code",
   "execution_count": 3,
   "metadata": {},
   "outputs": [],
   "source": [
    "#loans = loans.iloc[:,1:500]\n",
    "#data = data.dropna()\n",
    "#loans.head()"
   ]
  },
  {
   "cell_type": "markdown",
   "metadata": {},
   "source": [
    "* __Splitting the data into train and test set__"
   ]
  },
  {
   "cell_type": "markdown",
   "metadata": {},
   "source": [
    "Here we split in training and test."
   ]
  },
  {
   "cell_type": "code",
   "execution_count": 4,
   "metadata": {},
   "outputs": [],
   "source": [
    "X = loans.drop(['loan_status'], axis = 1).values\n",
    "y = loans['loan_status'].values\n",
    "\n",
    "X_train, X_test, y_train, y_test = train_test_split(X, y, test_size = 0.2, random_state = 12345)"
   ]
  },
  {
   "cell_type": "markdown",
   "metadata": {},
   "source": [
    "* __Fitting the model and Prediction__"
   ]
  },
  {
   "cell_type": "code",
   "execution_count": 5,
   "metadata": {},
   "outputs": [
    {
     "name": "stdout",
     "output_type": "stream",
     "text": [
      "CPU times: user 2min 51s, sys: 18.5 s, total: 3min 10s\n",
      "Wall time: 50.9 s\n"
     ]
    },
    {
     "data": {
      "text/plain": [
       "XGBClassifier(base_score=0.5, booster='gbtree', colsample_bylevel=1,\n",
       "              colsample_bynode=1, colsample_bytree=0.8, gamma=0, gpu_id=-1,\n",
       "              importance_type='gain', interaction_constraints='',\n",
       "              learning_rate=0.300000012, max_delta_step=0, max_depth=6,\n",
       "              min_child_weight=1, missing=nan, monotone_constraints='()',\n",
       "              n_estimators=100, n_jobs=6, nthread=6, num_parallel_tree=1,\n",
       "              random_state=12345, reg_alpha=0, reg_lambda=1, scale_pos_weight=1,\n",
       "              seed=12345, subsample=0.8, tree_method='exact',\n",
       "              validate_parameters=1, verbosity=None)"
      ]
     },
     "execution_count": 5,
     "metadata": {},
     "output_type": "execute_result"
    }
   ],
   "source": [
    "%%time\n",
    "xgboost = xgb.XGBClassifier(n_estimators=100, subsample=0.8,\n",
    "                            colsample_bytree=0.8,objective= 'binary:logistic',\n",
    "                            scale_pos_weight=1, seed=12345, nthread = 6)\n",
    "xgboost.fit(X_train, y_train)"
   ]
  },
  {
   "cell_type": "markdown",
   "metadata": {},
   "source": [
    "Next, we make the predictions using the subset above, which is the test set."
   ]
  },
  {
   "cell_type": "code",
   "execution_count": 6,
   "metadata": {},
   "outputs": [],
   "source": [
    "prediction = xgboost.predict(X_test)"
   ]
  },
  {
   "cell_type": "markdown",
   "metadata": {},
   "source": [
    "* __Accuracy__"
   ]
  },
  {
   "cell_type": "code",
   "execution_count": 7,
   "metadata": {},
   "outputs": [
    {
     "data": {
      "text/plain": [
       "0.9864559331018293"
      ]
     },
     "execution_count": 7,
     "metadata": {},
     "output_type": "execute_result"
    }
   ],
   "source": [
    "accuracy_score(y_test, prediction)"
   ]
  },
  {
   "cell_type": "markdown",
   "metadata": {},
   "source": [
    "In this case we can see that the accuracy is 98%."
   ]
  },
  {
   "cell_type": "markdown",
   "metadata": {},
   "source": [
    "## Model Evaluation"
   ]
  },
  {
   "cell_type": "markdown",
   "metadata": {},
   "source": [
    "* __Confussion Matrix__"
   ]
  },
  {
   "cell_type": "markdown",
   "metadata": {},
   "source": [
    "In order to be able to illustrate the confusion matrix, a function called plot_confusion_matrix has been defined, indicating the parameters to be taken into account."
   ]
  },
  {
   "cell_type": "code",
   "execution_count": 8,
   "metadata": {},
   "outputs": [],
   "source": [
    "import matplotlib.pyplot as plt\n",
    "from sklearn.metrics import classification_report, confusion_matrix\n",
    "from sklearn.metrics import confusion_matrix\n",
    "import itertools # aplanar arrays\n",
    "\n",
    "\n",
    "def plot_confusion_matrix(cm, classes,\n",
    "                          normalize=False,\n",
    "                          title='Confusion matrix',\n",
    "                          cmap=plt.cm.Blues):\n",
    "    #Add Normalization Option\n",
    "    if normalize:\n",
    "        cm = cm.astype('float') / cm.sum(axis=1)[:, np.newaxis]\n",
    "        print(\"Normalized confusion matrix\")\n",
    "    else:\n",
    "        print('Confusion matrix, without normalization')\n",
    "\n",
    "    print(cm)\n",
    "\n",
    "    plt.imshow(cm, interpolation='nearest', cmap=cmap)\n",
    "    plt.title(title)\n",
    "    plt.colorbar()\n",
    "    tick_marks = np.arange(len(classes))\n",
    "    plt.xticks(tick_marks, classes, rotation=45)\n",
    "    plt.yticks(tick_marks, classes)\n",
    "\n",
    "    fmt = '.2f' if normalize else 'd'\n",
    "    thresh = cm.max() / 2.\n",
    "    for i, j in itertools.product(range(cm.shape[0]), range(cm.shape[1])):\n",
    "        plt.text(j, i, format(cm[i, j], fmt),\n",
    "                 horizontalalignment=\"center\",\n",
    "                 color=\"white\" if cm[i, j] > thresh else \"black\")\n",
    "\n",
    "    plt.tight_layout()\n",
    "    plt.ylabel('True label')\n",
    "    plt.xlabel('Predicted label')"
   ]
  },
  {
   "cell_type": "markdown",
   "metadata": {},
   "source": [
    "We proceed to graph the confussion matrix:"
   ]
  },
  {
   "cell_type": "code",
   "execution_count": 9,
   "metadata": {},
   "outputs": [
    {
     "name": "stdout",
     "output_type": "stream",
     "text": [
      "Confusion matrix, without normalization\n",
      "[[22240  1196]\n",
      " [   56 68947]]\n"
     ]
    },
    {
     "data": {
      "image/png": "[encoded data removed]",
      "text/plain": [
       "<Figure size 432x288 with 2 Axes>"
      ]
     },
     "metadata": {
      "needs_background": "light"
     },
     "output_type": "display_data"
    }
   ],
   "source": [
    "cnf_matrix = confusion_matrix(y_test, prediction)\n",
    "plot_confusion_matrix(cnf_matrix, classes=[0,1])"
   ]
  },
  {
   "cell_type": "code",
   "execution_count": 10,
   "metadata": {},
   "outputs": [
    {
     "name": "stdout",
     "output_type": "stream",
     "text": [
      "True Negatives:  22240\n",
      "False Positives:  1196\n",
      "False Negatives:  56\n",
      "True Positives:  68947\n"
     ]
    }
   ],
   "source": [
    "#extracting true_positives, false_positives, true_negatives, false_negatives\n",
    "tn, fp, fn, tp = confusion_matrix(y_test, prediction).ravel()\n",
    "print(\"True Negatives: \",tn)\n",
    "print(\"False Positives: \",fp)\n",
    "print(\"False Negatives: \",fn)\n",
    "print(\"True Positives: \",tp)"
   ]
  },
  {
   "cell_type": "markdown",
   "metadata": {},
   "source": [
    "With the confusion matrix we can see that there are 68.947 true positives in total, which means that those loans that have been classified as fully paid are correctly placed.\n",
    "\n",
    "On the other hand,  we can see that there are 22.240 true negatives in total, which means that those loans that have been classified as not paid are correctly placed.\n",
    "\n",
    "It can be seen as well, that there is a total of 1.196 and 56 false positives and false negatives, respectively. This means that these loans have been misplaced."
   ]
  },
  {
   "cell_type": "markdown",
   "metadata": {},
   "source": [
    "* __Saving the model__ "
   ]
  },
  {
   "cell_type": "code",
   "execution_count": 11,
   "metadata": {},
   "outputs": [],
   "source": [
    "model = xgboost\n",
    "filename = 'modelo_xgboost.pkl'\n",
    "pickle.dump(model,open(filename,'wb'))"
   ]
  }
 ],
 "metadata": {
  "kernelspec": {
   "display_name": "prestamos_env",
   "language": "python",
   "name": "prestamos_env"
  },
  "language_info": {
   "codemirror_mode": {
    "name": "ipython",
    "version": 3
   },
   "file_extension": ".py",
   "mimetype": "text/x-python",
   "name": "python",
   "nbconvert_exporter": "python",
   "pygments_lexer": "ipython3",
   "version": "3.8.3"
  }
 },
 "nbformat": 4,
 "nbformat_minor": 4
}
