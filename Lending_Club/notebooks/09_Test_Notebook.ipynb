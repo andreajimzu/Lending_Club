{
 "cells": [
  {
   "cell_type": "markdown",
   "metadata": {},
   "source": [
    "* Authors: Andrea Jiménez Zuñiga e Isabel Afán de Ribera\n",
    "* Date: 04/12/2020\n",
    "* Institution: CUNEF"
   ]
  },
  {
   "cell_type": "markdown",
   "metadata": {},
   "source": [
    "# 09. Best Model "
   ]
  },
  {
   "cell_type": "markdown",
   "metadata": {},
   "source": [
    "## Import Libraries\n"
   ]
  },
  {
   "cell_type": "code",
   "execution_count": 3,
   "metadata": {},
   "outputs": [],
   "source": [
    "import pandas as pd \n",
    "import numpy as np \n",
    "import matplotlib.pyplot as plt \n",
    "%matplotlib inline\n",
    "import seaborn as sns \n",
    "import pandas as pd \n",
    "import numpy as np\n",
    "import matplotlib.pyplot as plt \n",
    "from sklearn.impute import SimpleImputer\n",
    "from sklearn.preprocessing import OrdinalEncoder\n",
    "from sklearn.preprocessing import OneHotEncoder\n",
    "from sklearn.preprocessing import StandardScaler  \n",
    "from sklearn import preprocessing\n",
    "from sklearn.pipeline import Pipeline\n",
    "from sklearn.compose import ColumnTransformer\n",
    "from sklearn.ensemble import IsolationForest # outliers\n",
    "import random \n",
    "from sklearn.model_selection import train_test_split \n",
    "from sklearn.svm import SVC  \n",
    "from sklearn.metrics import accuracy_score\n",
    "from sklearn.metrics import accuracy_score\n",
    "import matplotlib.pyplot as plt\n",
    "from sklearn.metrics import confusion_matrix\n",
    "from sklearn.metrics import plot_roc_curve\n",
    "import itertools\n",
    "import pickle\n",
    "from sklearn import metrics \n",
    "random.seed(12345)"
   ]
  },
  {
   "cell_type": "markdown",
   "metadata": {},
   "source": [
    "## Import Data\n"
   ]
  },
  {
   "cell_type": "code",
   "execution_count": 12,
   "metadata": {},
   "outputs": [
    {
     "name": "stderr",
     "output_type": "stream",
     "text": [
      "<ipython-input-12-4ff098601adb>:1: ParserWarning: Falling back to the 'python' engine because the 'c' engine does not support skipfooter; you can avoid this warning by specifying engine='python'.\n",
      "  loans = pd.read_csv('/Users/Andy/Desktop/CUNEF/MACHINE LEARNIG/Prestamos/data/Loan_training_set_1_4.csv', header=1, skipfooter=2)\n"
     ]
    }
   ],
   "source": [
    "loans = pd.read_csv('/Users/Andy/Desktop/CUNEF/MACHINE LEARNIG/Prestamos/data/Loan_training_set_1_4.csv', header=1, skipfooter=2)\n"
   ]
  },
  {
   "cell_type": "markdown",
   "metadata": {},
   "source": [
    "## Data Cleaning"
   ]
  },
  {
   "cell_type": "markdown",
   "metadata": {},
   "source": [
    "Bearing in mind the large number of variables we have in our analysis (151), we are going to analyse the null values to see if we can dispense with some columns."
   ]
  },
  {
   "cell_type": "code",
   "execution_count": 13,
   "metadata": {},
   "outputs": [
    {
     "data": {
      "text/plain": [
       "id                         0.0\n",
       "member_id                100.0\n",
       "loan_amnt                  0.0\n",
       "funded_amnt                0.0\n",
       "funded_amnt_inv            0.0\n",
       "                         ...  \n",
       "settlement_status        100.0\n",
       "settlement_date          100.0\n",
       "settlement_amount        100.0\n",
       "settlement_percentage    100.0\n",
       "settlement_term          100.0\n",
       "Length: 151, dtype: float64"
      ]
     },
     "execution_count": 13,
     "metadata": {},
     "output_type": "execute_result"
    }
   ],
   "source": [
    "# percentage of missing values in each column\n",
    "round(loans.isnull().sum()/len(loans.index), 2)*100"
   ]
  },
  {
   "cell_type": "markdown",
   "metadata": {},
   "source": [
    "We can see that many columns have very high percentages of missing values. First, let's get rid of the columns having 90% missing values."
   ]
  },
  {
   "cell_type": "code",
   "execution_count": 14,
   "metadata": {},
   "outputs": [
    {
     "name": "stdout",
     "output_type": "stream",
     "text": [
      "Index(['member_id', 'desc', 'annual_inc_joint', 'dti_joint',\n",
      "       'verification_status_joint', 'revol_bal_joint',\n",
      "       'sec_app_fico_range_low', 'sec_app_fico_range_high',\n",
      "       'sec_app_earliest_cr_line', 'sec_app_inq_last_6mths',\n",
      "       'sec_app_mort_acc', 'sec_app_open_acc', 'sec_app_revol_util',\n",
      "       'sec_app_open_act_il', 'sec_app_num_rev_accts',\n",
      "       'sec_app_chargeoff_within_12_mths',\n",
      "       'sec_app_collections_12_mths_ex_med',\n",
      "       'sec_app_mths_since_last_major_derog', 'hardship_type',\n",
      "       'hardship_reason', 'hardship_status', 'deferral_term',\n",
      "       'hardship_amount', 'hardship_start_date', 'hardship_end_date',\n",
      "       'payment_plan_start_date', 'hardship_length', 'hardship_dpd',\n",
      "       'hardship_loan_status', 'orig_projected_additional_accrued_interest',\n",
      "       'hardship_payoff_balance_amount', 'hardship_last_payment_amount',\n",
      "       'debt_settlement_flag_date', 'settlement_status', 'settlement_date',\n",
      "       'settlement_amount', 'settlement_percentage', 'settlement_term'],\n",
      "      dtype='object')\n"
     ]
    }
   ],
   "source": [
    "missing_columns = loans.columns[100*(loans.isnull().sum()/len(loans.index)) > 90]\n",
    "print(missing_columns)"
   ]
  },
  {
   "cell_type": "markdown",
   "metadata": {},
   "source": [
    "All these columns with a high percentage of lost values are not of interest in our analysis since many of them are explained by other variables and others we conclude, due to business knowledge, that they do not provide information to our decision to grant or not the requested credit."
   ]
  },
  {
   "cell_type": "code",
   "execution_count": 15,
   "metadata": {},
   "outputs": [
    {
     "name": "stdout",
     "output_type": "stream",
     "text": [
      "(105451, 113)\n"
     ]
    }
   ],
   "source": [
    "loans = loans.drop(missing_columns, axis=1)\n",
    "print(loans.shape)"
   ]
  },
  {
   "cell_type": "code",
   "execution_count": 16,
   "metadata": {},
   "outputs": [
    {
     "data": {
      "text/plain": [
       "id                            0.0\n",
       "loan_amnt                     0.0\n",
       "funded_amnt                   0.0\n",
       "funded_amnt_inv               0.0\n",
       "term                          0.0\n",
       "                             ... \n",
       "total_bc_limit                0.0\n",
       "total_il_high_credit_limit    0.0\n",
       "hardship_flag                 0.0\n",
       "disbursement_method           0.0\n",
       "debt_settlement_flag          0.0\n",
       "Length: 113, dtype: float64"
      ]
     },
     "execution_count": 16,
     "metadata": {},
     "output_type": "execute_result"
    }
   ],
   "source": [
    "100 * (loans.isnull().sum() / len(loans.index))"
   ]
  },
  {
   "cell_type": "markdown",
   "metadata": {},
   "source": [
    "Dropping columns that are not required, such as: url, desc, title, zip_code and id."
   ]
  },
  {
   "cell_type": "code",
   "execution_count": 17,
   "metadata": {},
   "outputs": [
    {
     "data": {
      "text/plain": [
       "(105451, 109)"
      ]
     },
     "execution_count": 17,
     "metadata": {},
     "output_type": "execute_result"
    }
   ],
   "source": [
    "loans.drop(['url','title','zip_code','id'], axis=1, inplace=True)\n",
    "loans.shape"
   ]
  },
  {
   "cell_type": "markdown",
   "metadata": {},
   "source": [
    "## Choosing Variables"
   ]
  },
  {
   "cell_type": "markdown",
   "metadata": {},
   "source": [
    "As the new dataset has 884,876 observations and 113 variables, we have chosen some of the most relevant variables that we have considered by studying the variables and researching. As a result, we have chosen 25 primary variables to continue with the analysis, which 19 of them are numeric and 6 are categorical variables."
   ]
  },
  {
   "cell_type": "markdown",
   "metadata": {},
   "source": [
    "These variables are:\n",
    "\n",
    "1. `loan_amnt`: Loan amounts\n",
    "2. `emp_length`: Length the borrowers have been employed.\n",
    "3. `home_ownership`: Type of home ownership.\n",
    "4. `annual_inc`: Annual income of each borrower.\n",
    "5. `funded_amnt_inv`: Total amount commited by investors for that loan at that point of time.\n",
    "6. `int_rate`: Interest rate.\n",
    "7. `dti`: Debt to income ratio.\n",
    "8. `installment`: Installment amount, which is tha monthly payment by the borrower if the loan originates.\n",
    "9. `revol_bal`: Total Credit Revolving Balance.\n",
    "10. `revol_util`: Revolving line utilization rate, or the amount of credit the borrower is using relative to all available revolving credit.\n",
    "11. `total_acc`: Number of total accounts.\n",
    "12. `open_acc`: The number of open credit lines in the borrower's credit file.\n",
    "13. `funded_amnt`: The total amount committed to that loan at that point in time.\n",
    "14. `last_pymnt_amnt`: Last payment amount.\n",
    "15. `term`: Term, which is the duration of the loan.\n",
    "16. `grade`: Credit grades.\n",
    "17. `loan_status`: Loan status\n",
    "18. `purpose`: A category provided by the borrower for the loan request. \n",
    "19. `sub_grade`: LC assigned loan subgrade.\n",
    "20. `pub_rec`: Number of derogatory public records.\n",
    "21. `inq_last_6mths`: The number of inquiries in past 6 months (excluding auto and mortgage inquiries).\n",
    "22. `delinq_2yrs`: The number of 30+ days past-due incidences of delinquency in the borrower's credit file for the past 2 years.\n",
    "23. `tax_liens`: Number of tax liens.\n",
    "24. `pub_rec_bankruptcies`: Number of public record bankruptcies.\n",
    "25. `total_pymnt`: Payments received to date for total amount funded."
   ]
  },
  {
   "cell_type": "markdown",
   "metadata": {},
   "source": [
    "## Final dataset"
   ]
  },
  {
   "cell_type": "code",
   "execution_count": 18,
   "metadata": {},
   "outputs": [],
   "source": [
    "loans_final = loans[['term', 'loan_amnt','installment','int_rate', 'home_ownership','purpose',\n",
    "                    'verification_status', 'annual_inc', 'emp_length', 'revol_util',\n",
    "                    'revol_bal','pub_rec','open_acc', 'inq_last_6mths','delinq_2yrs','dti',\n",
    "                    'total_acc', 'tax_liens','pub_rec_bankruptcies',\n",
    "                    'loan_status','funded_amnt_inv','funded_amnt','total_pymnt','grade','sub_grade']]"
   ]
  },
  {
   "cell_type": "markdown",
   "metadata": {},
   "source": [
    "## Target Variable"
   ]
  },
  {
   "cell_type": "code",
   "execution_count": 19,
   "metadata": {},
   "outputs": [
    {
     "data": {
      "text/plain": [
       "array(['Charged Off', 'Current', 'Default', 'Fully Paid',\n",
       "       'In Grace Period', 'Late (16-30 days)', 'Late (31-120 days)'],\n",
       "      dtype=object)"
      ]
     },
     "execution_count": 19,
     "metadata": {},
     "output_type": "execute_result"
    }
   ],
   "source": [
    "np.unique(loans['loan_status'])"
   ]
  },
  {
   "cell_type": "code",
   "execution_count": 20,
   "metadata": {},
   "outputs": [],
   "source": [
    "loans_sin_current = loans_final[loans_final.loan_status != 'Current']"
   ]
  },
  {
   "cell_type": "code",
   "execution_count": 21,
   "metadata": {},
   "outputs": [
    {
     "data": {
      "text/plain": [
       "array(['Charged Off', 'Default', 'Fully Paid', 'In Grace Period',\n",
       "       'Late (16-30 days)', 'Late (31-120 days)'], dtype=object)"
      ]
     },
     "execution_count": 21,
     "metadata": {},
     "output_type": "execute_result"
    }
   ],
   "source": [
    "np.unique(loans_sin_current['loan_status'])"
   ]
  },
  {
   "cell_type": "code",
   "execution_count": 22,
   "metadata": {},
   "outputs": [],
   "source": [
    "sub_loans = loans_sin_current"
   ]
  },
  {
   "cell_type": "code",
   "execution_count": 23,
   "metadata": {},
   "outputs": [
    {
     "data": {
      "text/plain": [
       "term                     object\n",
       "loan_amnt                 int64\n",
       "installment             float64\n",
       "int_rate                 object\n",
       "home_ownership           object\n",
       "purpose                  object\n",
       "verification_status      object\n",
       "annual_inc              float64\n",
       "emp_length               object\n",
       "revol_util               object\n",
       "revol_bal                 int64\n",
       "pub_rec                   int64\n",
       "open_acc                  int64\n",
       "inq_last_6mths            int64\n",
       "delinq_2yrs               int64\n",
       "dti                     float64\n",
       "total_acc                 int64\n",
       "tax_liens                 int64\n",
       "pub_rec_bankruptcies      int64\n",
       "loan_status              object\n",
       "funded_amnt_inv           int64\n",
       "funded_amnt               int64\n",
       "total_pymnt             float64\n",
       "grade                    object\n",
       "sub_grade                object\n",
       "dtype: object"
      ]
     },
     "execution_count": 23,
     "metadata": {},
     "output_type": "execute_result"
    }
   ],
   "source": [
    "sub_loans.dtypes"
   ]
  },
  {
   "cell_type": "code",
   "execution_count": 24,
   "metadata": {},
   "outputs": [
    {
     "name": "stderr",
     "output_type": "stream",
     "text": [
      "<ipython-input-24-4bc4c929e8ae>:1: SettingWithCopyWarning: \n",
      "A value is trying to be set on a copy of a slice from a DataFrame.\n",
      "Try using .loc[row_indexer,col_indexer] = value instead\n",
      "\n",
      "See the caveats in the documentation: https://pandas.pydata.org/pandas-docs/stable/user_guide/indexing.html#returning-a-view-versus-a-copy\n",
      "  sub_loans['emp_length']=sub_loans['emp_length'].str.strip('<')\n",
      "<ipython-input-24-4bc4c929e8ae>:2: SettingWithCopyWarning: \n",
      "A value is trying to be set on a copy of a slice from a DataFrame.\n",
      "Try using .loc[row_indexer,col_indexer] = value instead\n",
      "\n",
      "See the caveats in the documentation: https://pandas.pydata.org/pandas-docs/stable/user_guide/indexing.html#returning-a-view-versus-a-copy\n",
      "  sub_loans['emp_length']=sub_loans['emp_length'].str.strip('+')\n",
      "<ipython-input-24-4bc4c929e8ae>:3: SettingWithCopyWarning: \n",
      "A value is trying to be set on a copy of a slice from a DataFrame.\n",
      "Try using .loc[row_indexer,col_indexer] = value instead\n",
      "\n",
      "See the caveats in the documentation: https://pandas.pydata.org/pandas-docs/stable/user_guide/indexing.html#returning-a-view-versus-a-copy\n",
      "  sub_loans['emp_length']=sub_loans['emp_length'].str.strip('years')\n",
      "<ipython-input-24-4bc4c929e8ae>:4: SettingWithCopyWarning: \n",
      "A value is trying to be set on a copy of a slice from a DataFrame.\n",
      "Try using .loc[row_indexer,col_indexer] = value instead\n",
      "\n",
      "See the caveats in the documentation: https://pandas.pydata.org/pandas-docs/stable/user_guide/indexing.html#returning-a-view-versus-a-copy\n",
      "  sub_loans['emp_length']=sub_loans['emp_length'].str.strip('+ years')\n"
     ]
    }
   ],
   "source": [
    "sub_loans['emp_length']=sub_loans['emp_length'].str.strip('<')\n",
    "sub_loans['emp_length']=sub_loans['emp_length'].str.strip('+')\n",
    "sub_loans['emp_length']=sub_loans['emp_length'].str.strip('years')\n",
    "sub_loans['emp_length']=sub_loans['emp_length'].str.strip('+ years')"
   ]
  },
  {
   "cell_type": "code",
   "execution_count": 25,
   "metadata": {},
   "outputs": [
    {
     "name": "stderr",
     "output_type": "stream",
     "text": [
      "<ipython-input-25-cbc218431f6d>:1: SettingWithCopyWarning: \n",
      "A value is trying to be set on a copy of a slice from a DataFrame.\n",
      "Try using .loc[row_indexer,col_indexer] = value instead\n",
      "\n",
      "See the caveats in the documentation: https://pandas.pydata.org/pandas-docs/stable/user_guide/indexing.html#returning-a-view-versus-a-copy\n",
      "  sub_loans['emp_length']=sub_loans['emp_length'].astype('float')\n"
     ]
    },
    {
     "data": {
      "text/plain": [
       "array([ 1.,  2.,  3.,  4.,  5.,  6.,  7.,  8.,  9., 10., nan, nan, nan,\n",
       "       nan, nan, nan, nan, nan, nan, nan, nan, nan, nan, nan, nan, nan,\n",
       "       nan, nan, nan, nan, nan, nan, nan, nan, nan, nan, nan, nan, nan,\n",
       "       nan, nan, nan, nan, nan, nan, nan, nan, nan, nan, nan, nan, nan,\n",
       "       nan, nan, nan, nan, nan, nan, nan, nan, nan, nan, nan, nan, nan,\n",
       "       nan, nan, nan, nan, nan, nan, nan, nan, nan, nan, nan, nan, nan,\n",
       "       nan, nan, nan, nan, nan, nan, nan, nan, nan, nan, nan, nan, nan,\n",
       "       nan, nan, nan, nan, nan, nan, nan, nan, nan, nan, nan, nan, nan,\n",
       "       nan, nan, nan, nan, nan, nan, nan, nan, nan, nan, nan, nan, nan,\n",
       "       nan, nan, nan, nan, nan, nan, nan, nan, nan, nan, nan, nan, nan,\n",
       "       nan, nan, nan, nan, nan, nan, nan, nan, nan, nan, nan, nan, nan,\n",
       "       nan, nan, nan, nan, nan, nan, nan, nan, nan, nan, nan, nan, nan,\n",
       "       nan, nan, nan, nan, nan, nan, nan, nan, nan, nan, nan, nan, nan,\n",
       "       nan, nan, nan, nan, nan, nan, nan, nan, nan, nan, nan, nan, nan,\n",
       "       nan, nan, nan, nan, nan, nan, nan, nan, nan, nan, nan, nan, nan,\n",
       "       nan, nan, nan, nan, nan, nan, nan, nan, nan, nan, nan, nan, nan,\n",
       "       nan, nan, nan, nan, nan, nan, nan, nan, nan, nan, nan, nan, nan,\n",
       "       nan, nan, nan, nan, nan, nan, nan, nan, nan, nan, nan, nan, nan,\n",
       "       nan, nan, nan, nan, nan, nan, nan, nan, nan, nan, nan, nan, nan,\n",
       "       nan, nan, nan, nan, nan, nan, nan, nan, nan, nan, nan, nan, nan,\n",
       "       nan, nan, nan, nan, nan, nan, nan, nan, nan, nan, nan, nan, nan,\n",
       "       nan, nan, nan, nan, nan, nan, nan, nan, nan, nan, nan, nan, nan,\n",
       "       nan, nan, nan, nan, nan, nan, nan, nan, nan, nan, nan, nan, nan,\n",
       "       nan, nan, nan, nan, nan, nan, nan, nan, nan, nan, nan, nan, nan,\n",
       "       nan, nan, nan, nan, nan, nan, nan, nan, nan, nan, nan, nan, nan,\n",
       "       nan, nan, nan, nan, nan, nan, nan, nan, nan, nan, nan, nan, nan,\n",
       "       nan, nan, nan, nan, nan, nan, nan, nan, nan, nan, nan, nan, nan,\n",
       "       nan, nan, nan, nan, nan, nan, nan, nan, nan, nan, nan, nan, nan,\n",
       "       nan, nan, nan, nan, nan, nan, nan, nan, nan, nan, nan, nan, nan,\n",
       "       nan, nan, nan, nan, nan, nan, nan, nan, nan, nan, nan, nan, nan,\n",
       "       nan, nan, nan, nan, nan, nan, nan, nan, nan, nan, nan, nan, nan,\n",
       "       nan, nan, nan, nan, nan, nan, nan, nan, nan, nan, nan, nan, nan,\n",
       "       nan, nan, nan, nan, nan, nan, nan, nan, nan, nan, nan, nan, nan,\n",
       "       nan, nan, nan, nan, nan, nan, nan, nan, nan, nan, nan, nan, nan,\n",
       "       nan, nan, nan, nan, nan, nan, nan, nan, nan, nan, nan, nan, nan,\n",
       "       nan, nan, nan, nan, nan, nan, nan, nan, nan, nan, nan, nan, nan,\n",
       "       nan, nan, nan, nan, nan, nan, nan, nan, nan, nan, nan, nan, nan,\n",
       "       nan, nan, nan, nan, nan, nan, nan, nan, nan, nan, nan, nan, nan,\n",
       "       nan, nan, nan, nan, nan, nan, nan, nan, nan, nan, nan, nan, nan,\n",
       "       nan, nan, nan, nan, nan, nan, nan, nan, nan, nan, nan, nan, nan,\n",
       "       nan, nan, nan, nan, nan, nan, nan, nan, nan, nan, nan, nan, nan,\n",
       "       nan, nan, nan, nan, nan, nan, nan, nan, nan, nan, nan, nan, nan,\n",
       "       nan, nan, nan, nan, nan, nan, nan, nan, nan, nan, nan, nan, nan,\n",
       "       nan, nan, nan, nan, nan, nan, nan, nan, nan, nan, nan, nan, nan,\n",
       "       nan, nan, nan, nan, nan, nan, nan, nan, nan, nan, nan, nan, nan,\n",
       "       nan, nan, nan, nan, nan, nan, nan, nan, nan, nan, nan, nan, nan,\n",
       "       nan, nan, nan, nan, nan, nan, nan, nan, nan, nan, nan, nan, nan,\n",
       "       nan, nan, nan, nan, nan, nan, nan, nan, nan, nan, nan, nan, nan,\n",
       "       nan, nan, nan, nan, nan, nan, nan, nan, nan, nan, nan, nan, nan,\n",
       "       nan, nan, nan, nan, nan, nan, nan, nan, nan, nan, nan, nan, nan,\n",
       "       nan, nan, nan, nan, nan, nan, nan, nan, nan, nan, nan, nan, nan,\n",
       "       nan, nan, nan, nan, nan, nan, nan, nan, nan, nan, nan, nan, nan,\n",
       "       nan, nan, nan, nan, nan, nan, nan, nan, nan, nan, nan, nan, nan,\n",
       "       nan, nan, nan, nan, nan, nan, nan, nan, nan, nan, nan, nan, nan,\n",
       "       nan, nan, nan, nan, nan, nan, nan, nan, nan, nan, nan, nan, nan,\n",
       "       nan, nan, nan, nan, nan, nan, nan, nan, nan, nan, nan, nan, nan,\n",
       "       nan, nan, nan, nan, nan, nan, nan, nan, nan, nan, nan, nan, nan,\n",
       "       nan, nan, nan, nan, nan, nan, nan, nan, nan, nan, nan, nan, nan,\n",
       "       nan, nan, nan, nan, nan, nan, nan, nan, nan, nan, nan, nan, nan,\n",
       "       nan, nan, nan, nan, nan, nan, nan, nan, nan, nan, nan, nan, nan,\n",
       "       nan, nan, nan, nan, nan, nan, nan, nan, nan, nan, nan, nan, nan,\n",
       "       nan, nan, nan, nan, nan, nan, nan, nan, nan, nan, nan, nan, nan,\n",
       "       nan, nan, nan, nan, nan, nan, nan, nan, nan, nan, nan, nan, nan,\n",
       "       nan, nan, nan, nan, nan, nan, nan, nan, nan, nan, nan, nan, nan,\n",
       "       nan, nan, nan, nan, nan, nan, nan, nan, nan, nan, nan, nan, nan,\n",
       "       nan, nan, nan, nan, nan, nan, nan, nan, nan, nan, nan, nan, nan,\n",
       "       nan, nan, nan, nan, nan, nan, nan, nan, nan, nan, nan, nan, nan,\n",
       "       nan, nan, nan, nan, nan, nan, nan, nan, nan, nan, nan, nan, nan,\n",
       "       nan, nan, nan])"
      ]
     },
     "execution_count": 25,
     "metadata": {},
     "output_type": "execute_result"
    }
   ],
   "source": [
    "sub_loans['emp_length']=sub_loans['emp_length'].astype('float')\n",
    "np.unique(sub_loans['emp_length'])"
   ]
  },
  {
   "cell_type": "code",
   "execution_count": 26,
   "metadata": {},
   "outputs": [
    {
     "name": "stderr",
     "output_type": "stream",
     "text": [
      "<ipython-input-26-5c40491c7ccc>:1: SettingWithCopyWarning: \n",
      "A value is trying to be set on a copy of a slice from a DataFrame.\n",
      "Try using .loc[row_indexer,col_indexer] = value instead\n",
      "\n",
      "See the caveats in the documentation: https://pandas.pydata.org/pandas-docs/stable/user_guide/indexing.html#returning-a-view-versus-a-copy\n",
      "  sub_loans['int_rate']=sub_loans['int_rate'].str.strip('%')\n",
      "<ipython-input-26-5c40491c7ccc>:2: SettingWithCopyWarning: \n",
      "A value is trying to be set on a copy of a slice from a DataFrame.\n",
      "Try using .loc[row_indexer,col_indexer] = value instead\n",
      "\n",
      "See the caveats in the documentation: https://pandas.pydata.org/pandas-docs/stable/user_guide/indexing.html#returning-a-view-versus-a-copy\n",
      "  sub_loans['int_rate']=sub_loans['int_rate'].astype('float')\n"
     ]
    }
   ],
   "source": [
    "sub_loans['int_rate']=sub_loans['int_rate'].str.strip('%')\n",
    "sub_loans['int_rate']=sub_loans['int_rate'].astype('float')"
   ]
  },
  {
   "cell_type": "code",
   "execution_count": 70,
   "metadata": {},
   "outputs": [
    {
     "ename": "AttributeError",
     "evalue": "Can only use .str accessor with string values!",
     "output_type": "error",
     "traceback": [
      "\u001b[0;31m---------------------------------------------------------------------------\u001b[0m",
      "\u001b[0;31mAttributeError\u001b[0m                            Traceback (most recent call last)",
      "\u001b[0;32m<ipython-input-70-a9f2c3e76b9a>\u001b[0m in \u001b[0;36m<module>\u001b[0;34m\u001b[0m\n\u001b[0;32m----> 1\u001b[0;31m \u001b[0msub_loans\u001b[0m\u001b[0;34m[\u001b[0m\u001b[0;34m'term'\u001b[0m\u001b[0;34m]\u001b[0m\u001b[0;34m=\u001b[0m\u001b[0msub_loans\u001b[0m\u001b[0;34m[\u001b[0m\u001b[0;34m'term'\u001b[0m\u001b[0;34m]\u001b[0m\u001b[0;34m.\u001b[0m\u001b[0mstr\u001b[0m\u001b[0;34m.\u001b[0m\u001b[0mstrip\u001b[0m\u001b[0;34m(\u001b[0m\u001b[0;34m'months'\u001b[0m\u001b[0;34m)\u001b[0m\u001b[0;34m\u001b[0m\u001b[0;34m\u001b[0m\u001b[0m\n\u001b[0m\u001b[1;32m      2\u001b[0m \u001b[0msub_loans\u001b[0m\u001b[0;34m[\u001b[0m\u001b[0;34m'term'\u001b[0m\u001b[0;34m]\u001b[0m\u001b[0;34m=\u001b[0m\u001b[0msub_loans\u001b[0m\u001b[0;34m[\u001b[0m\u001b[0;34m'term'\u001b[0m\u001b[0;34m]\u001b[0m\u001b[0;34m.\u001b[0m\u001b[0mastype\u001b[0m\u001b[0;34m(\u001b[0m\u001b[0;34m'float'\u001b[0m\u001b[0;34m)\u001b[0m\u001b[0;34m\u001b[0m\u001b[0;34m\u001b[0m\u001b[0m\n",
      "\u001b[0;32m~/opt/anaconda3/lib/python3.8/site-packages/pandas/core/generic.py\u001b[0m in \u001b[0;36m__getattr__\u001b[0;34m(self, name)\u001b[0m\n\u001b[1;32m   5268\u001b[0m             \u001b[0;32mor\u001b[0m \u001b[0mname\u001b[0m \u001b[0;32min\u001b[0m \u001b[0mself\u001b[0m\u001b[0;34m.\u001b[0m\u001b[0m_accessors\u001b[0m\u001b[0;34m\u001b[0m\u001b[0;34m\u001b[0m\u001b[0m\n\u001b[1;32m   5269\u001b[0m         ):\n\u001b[0;32m-> 5270\u001b[0;31m             \u001b[0;32mreturn\u001b[0m \u001b[0mobject\u001b[0m\u001b[0;34m.\u001b[0m\u001b[0m__getattribute__\u001b[0m\u001b[0;34m(\u001b[0m\u001b[0mself\u001b[0m\u001b[0;34m,\u001b[0m \u001b[0mname\u001b[0m\u001b[0;34m)\u001b[0m\u001b[0;34m\u001b[0m\u001b[0;34m\u001b[0m\u001b[0m\n\u001b[0m\u001b[1;32m   5271\u001b[0m         \u001b[0;32melse\u001b[0m\u001b[0;34m:\u001b[0m\u001b[0;34m\u001b[0m\u001b[0;34m\u001b[0m\u001b[0m\n\u001b[1;32m   5272\u001b[0m             \u001b[0;32mif\u001b[0m \u001b[0mself\u001b[0m\u001b[0;34m.\u001b[0m\u001b[0m_info_axis\u001b[0m\u001b[0;34m.\u001b[0m\u001b[0m_can_hold_identifiers_and_holds_name\u001b[0m\u001b[0;34m(\u001b[0m\u001b[0mname\u001b[0m\u001b[0;34m)\u001b[0m\u001b[0;34m:\u001b[0m\u001b[0;34m\u001b[0m\u001b[0;34m\u001b[0m\u001b[0m\n",
      "\u001b[0;32m~/opt/anaconda3/lib/python3.8/site-packages/pandas/core/accessor.py\u001b[0m in \u001b[0;36m__get__\u001b[0;34m(self, obj, cls)\u001b[0m\n\u001b[1;32m    185\u001b[0m             \u001b[0;31m# we're accessing the attribute of the class, i.e., Dataset.geo\u001b[0m\u001b[0;34m\u001b[0m\u001b[0;34m\u001b[0m\u001b[0;34m\u001b[0m\u001b[0m\n\u001b[1;32m    186\u001b[0m             \u001b[0;32mreturn\u001b[0m \u001b[0mself\u001b[0m\u001b[0;34m.\u001b[0m\u001b[0m_accessor\u001b[0m\u001b[0;34m\u001b[0m\u001b[0;34m\u001b[0m\u001b[0m\n\u001b[0;32m--> 187\u001b[0;31m         \u001b[0maccessor_obj\u001b[0m \u001b[0;34m=\u001b[0m \u001b[0mself\u001b[0m\u001b[0;34m.\u001b[0m\u001b[0m_accessor\u001b[0m\u001b[0;34m(\u001b[0m\u001b[0mobj\u001b[0m\u001b[0;34m)\u001b[0m\u001b[0;34m\u001b[0m\u001b[0;34m\u001b[0m\u001b[0m\n\u001b[0m\u001b[1;32m    188\u001b[0m         \u001b[0;31m# Replace the property with the accessor object. Inspired by:\u001b[0m\u001b[0;34m\u001b[0m\u001b[0;34m\u001b[0m\u001b[0;34m\u001b[0m\u001b[0m\n\u001b[1;32m    189\u001b[0m         \u001b[0;31m# http://www.pydanny.com/cached-property.html\u001b[0m\u001b[0;34m\u001b[0m\u001b[0;34m\u001b[0m\u001b[0;34m\u001b[0m\u001b[0m\n",
      "\u001b[0;32m~/opt/anaconda3/lib/python3.8/site-packages/pandas/core/strings.py\u001b[0m in \u001b[0;36m__init__\u001b[0;34m(self, data)\u001b[0m\n\u001b[1;32m   2039\u001b[0m \u001b[0;34m\u001b[0m\u001b[0m\n\u001b[1;32m   2040\u001b[0m     \u001b[0;32mdef\u001b[0m \u001b[0m__init__\u001b[0m\u001b[0;34m(\u001b[0m\u001b[0mself\u001b[0m\u001b[0;34m,\u001b[0m \u001b[0mdata\u001b[0m\u001b[0;34m)\u001b[0m\u001b[0;34m:\u001b[0m\u001b[0;34m\u001b[0m\u001b[0;34m\u001b[0m\u001b[0m\n\u001b[0;32m-> 2041\u001b[0;31m         \u001b[0mself\u001b[0m\u001b[0;34m.\u001b[0m\u001b[0m_inferred_dtype\u001b[0m \u001b[0;34m=\u001b[0m \u001b[0mself\u001b[0m\u001b[0;34m.\u001b[0m\u001b[0m_validate\u001b[0m\u001b[0;34m(\u001b[0m\u001b[0mdata\u001b[0m\u001b[0;34m)\u001b[0m\u001b[0;34m\u001b[0m\u001b[0;34m\u001b[0m\u001b[0m\n\u001b[0m\u001b[1;32m   2042\u001b[0m         \u001b[0mself\u001b[0m\u001b[0;34m.\u001b[0m\u001b[0m_is_categorical\u001b[0m \u001b[0;34m=\u001b[0m \u001b[0mis_categorical_dtype\u001b[0m\u001b[0;34m(\u001b[0m\u001b[0mdata\u001b[0m\u001b[0;34m)\u001b[0m\u001b[0;34m\u001b[0m\u001b[0;34m\u001b[0m\u001b[0m\n\u001b[1;32m   2043\u001b[0m         \u001b[0mself\u001b[0m\u001b[0;34m.\u001b[0m\u001b[0m_is_string\u001b[0m \u001b[0;34m=\u001b[0m \u001b[0mdata\u001b[0m\u001b[0;34m.\u001b[0m\u001b[0mdtype\u001b[0m\u001b[0;34m.\u001b[0m\u001b[0mname\u001b[0m \u001b[0;34m==\u001b[0m \u001b[0;34m\"string\"\u001b[0m\u001b[0;34m\u001b[0m\u001b[0;34m\u001b[0m\u001b[0m\n",
      "\u001b[0;32m~/opt/anaconda3/lib/python3.8/site-packages/pandas/core/strings.py\u001b[0m in \u001b[0;36m_validate\u001b[0;34m(data)\u001b[0m\n\u001b[1;32m   2096\u001b[0m \u001b[0;34m\u001b[0m\u001b[0m\n\u001b[1;32m   2097\u001b[0m         \u001b[0;32mif\u001b[0m \u001b[0minferred_dtype\u001b[0m \u001b[0;32mnot\u001b[0m \u001b[0;32min\u001b[0m \u001b[0mallowed_types\u001b[0m\u001b[0;34m:\u001b[0m\u001b[0;34m\u001b[0m\u001b[0;34m\u001b[0m\u001b[0m\n\u001b[0;32m-> 2098\u001b[0;31m             \u001b[0;32mraise\u001b[0m \u001b[0mAttributeError\u001b[0m\u001b[0;34m(\u001b[0m\u001b[0;34m\"Can only use .str accessor with string values!\"\u001b[0m\u001b[0;34m)\u001b[0m\u001b[0;34m\u001b[0m\u001b[0;34m\u001b[0m\u001b[0m\n\u001b[0m\u001b[1;32m   2099\u001b[0m         \u001b[0;32mreturn\u001b[0m \u001b[0minferred_dtype\u001b[0m\u001b[0;34m\u001b[0m\u001b[0;34m\u001b[0m\u001b[0m\n\u001b[1;32m   2100\u001b[0m \u001b[0;34m\u001b[0m\u001b[0m\n",
      "\u001b[0;31mAttributeError\u001b[0m: Can only use .str accessor with string values!"
     ]
    }
   ],
   "source": [
    "sub_loans['term']=sub_loans['term'].str.strip('months')\n",
    "sub_loans['term']=sub_loans['term'].astype('float')"
   ]
  },
  {
   "cell_type": "code",
   "execution_count": null,
   "metadata": {},
   "outputs": [],
   "source": [
    "sub_"
   ]
  },
  {
   "cell_type": "code",
   "execution_count": 28,
   "metadata": {},
   "outputs": [
    {
     "name": "stderr",
     "output_type": "stream",
     "text": [
      "<ipython-input-28-7810f6e9293f>:1: SettingWithCopyWarning: \n",
      "A value is trying to be set on a copy of a slice from a DataFrame.\n",
      "Try using .loc[row_indexer,col_indexer] = value instead\n",
      "\n",
      "See the caveats in the documentation: https://pandas.pydata.org/pandas-docs/stable/user_guide/indexing.html#returning-a-view-versus-a-copy\n",
      "  sub_loans['revol_util']=sub_loans['revol_util'].str.strip('%')\n",
      "<ipython-input-28-7810f6e9293f>:2: SettingWithCopyWarning: \n",
      "A value is trying to be set on a copy of a slice from a DataFrame.\n",
      "Try using .loc[row_indexer,col_indexer] = value instead\n",
      "\n",
      "See the caveats in the documentation: https://pandas.pydata.org/pandas-docs/stable/user_guide/indexing.html#returning-a-view-versus-a-copy\n",
      "  sub_loans['revol_util']=sub_loans['revol_util'].astype('float')\n"
     ]
    }
   ],
   "source": [
    "sub_loans['revol_util']=sub_loans['revol_util'].str.strip('%')\n",
    "sub_loans['revol_util']=sub_loans['revol_util'].astype('float')"
   ]
  },
  {
   "cell_type": "code",
   "execution_count": 29,
   "metadata": {},
   "outputs": [
    {
     "name": "stderr",
     "output_type": "stream",
     "text": [
      "<ipython-input-29-9e1987bf655b>:1: SettingWithCopyWarning: \n",
      "A value is trying to be set on a copy of a slice from a DataFrame.\n",
      "Try using .loc[row_indexer,col_indexer] = value instead\n",
      "\n",
      "See the caveats in the documentation: https://pandas.pydata.org/pandas-docs/stable/user_guide/indexing.html#returning-a-view-versus-a-copy\n",
      "  sub_loans['loan_amnt']=sub_loans['loan_amnt'].astype('float')\n"
     ]
    },
    {
     "data": {
      "text/plain": [
       "term                    float64\n",
       "loan_amnt               float64\n",
       "installment             float64\n",
       "int_rate                float64\n",
       "home_ownership           object\n",
       "purpose                  object\n",
       "verification_status      object\n",
       "annual_inc              float64\n",
       "emp_length              float64\n",
       "revol_util              float64\n",
       "revol_bal                 int64\n",
       "pub_rec                   int64\n",
       "open_acc                  int64\n",
       "inq_last_6mths            int64\n",
       "delinq_2yrs               int64\n",
       "dti                     float64\n",
       "total_acc                 int64\n",
       "tax_liens                 int64\n",
       "pub_rec_bankruptcies      int64\n",
       "loan_status              object\n",
       "funded_amnt_inv           int64\n",
       "funded_amnt               int64\n",
       "total_pymnt             float64\n",
       "grade                    object\n",
       "sub_grade                object\n",
       "dtype: object"
      ]
     },
     "execution_count": 29,
     "metadata": {},
     "output_type": "execute_result"
    }
   ],
   "source": [
    "sub_loans['loan_amnt']=sub_loans['loan_amnt'].astype('float')\n",
    "sub_loans.dtypes"
   ]
  },
  {
   "cell_type": "markdown",
   "metadata": {},
   "source": [
    "### Numerical columns"
   ]
  },
  {
   "cell_type": "code",
   "execution_count": 30,
   "metadata": {},
   "outputs": [
    {
     "name": "stdout",
     "output_type": "stream",
     "text": [
      "# of Numerical columns:  19\n"
     ]
    }
   ],
   "source": [
    "numerical_columns = sub_loans.dtypes[sub_loans.dtypes != \"object\"].index\n",
    "print(\"# of Numerical columns: \", len(numerical_columns))"
   ]
  },
  {
   "cell_type": "code",
   "execution_count": 31,
   "metadata": {},
   "outputs": [
    {
     "data": {
      "text/plain": [
       "Index(['term', 'loan_amnt', 'installment', 'int_rate', 'annual_inc',\n",
       "       'emp_length', 'revol_util', 'revol_bal', 'pub_rec', 'open_acc',\n",
       "       'inq_last_6mths', 'delinq_2yrs', 'dti', 'total_acc', 'tax_liens',\n",
       "       'pub_rec_bankruptcies', 'funded_amnt_inv', 'funded_amnt',\n",
       "       'total_pymnt'],\n",
       "      dtype='object')"
      ]
     },
     "execution_count": 31,
     "metadata": {},
     "output_type": "execute_result"
    }
   ],
   "source": [
    "numerical_columns"
   ]
  },
  {
   "cell_type": "markdown",
   "metadata": {},
   "source": [
    "### Data Cleaning"
   ]
  },
  {
   "cell_type": "markdown",
   "metadata": {},
   "source": [
    "Next, we are going to find the missing values in our dataset."
   ]
  },
  {
   "cell_type": "code",
   "execution_count": 32,
   "metadata": {},
   "outputs": [
    {
     "data": {
      "text/plain": [
       "emp_length              0.065890\n",
       "revol_util              0.000751\n",
       "dti                     0.000676\n",
       "sub_grade               0.000000\n",
       "pub_rec                 0.000000\n",
       "loan_amnt               0.000000\n",
       "installment             0.000000\n",
       "int_rate                0.000000\n",
       "home_ownership          0.000000\n",
       "purpose                 0.000000\n",
       "verification_status     0.000000\n",
       "annual_inc              0.000000\n",
       "revol_bal               0.000000\n",
       "open_acc                0.000000\n",
       "grade                   0.000000\n",
       "inq_last_6mths          0.000000\n",
       "delinq_2yrs             0.000000\n",
       "total_acc               0.000000\n",
       "tax_liens               0.000000\n",
       "pub_rec_bankruptcies    0.000000\n",
       "loan_status             0.000000\n",
       "funded_amnt_inv         0.000000\n",
       "funded_amnt             0.000000\n",
       "total_pymnt             0.000000\n",
       "term                    0.000000\n",
       "dtype: float64"
      ]
     },
     "execution_count": 32,
     "metadata": {},
     "output_type": "execute_result"
    }
   ],
   "source": [
    "percentage_NaN = sub_loans.apply(lambda x: sum(x.isna()/len(sub_loans)))\n",
    "percentage_NaN.sort_values(ascending = False)"
   ]
  },
  {
   "cell_type": "markdown",
   "metadata": {},
   "source": [
    "In order to take care of the missing values, we are going to use SimpleImputer, specifying that we want to replace the missing values of each attribute with its median."
   ]
  },
  {
   "cell_type": "code",
   "execution_count": 33,
   "metadata": {},
   "outputs": [],
   "source": [
    "imputer = SimpleImputer(strategy=\"median\")"
   ]
  },
  {
   "cell_type": "markdown",
   "metadata": {},
   "source": [
    "As the Imputer can only be used with numerical values, we have created a copy of the data without the test attributes."
   ]
  },
  {
   "cell_type": "code",
   "execution_count": 34,
   "metadata": {},
   "outputs": [],
   "source": [
    "sub_loans_num = sub_loans.select_dtypes(include=[np.number])"
   ]
  },
  {
   "cell_type": "code",
   "execution_count": 35,
   "metadata": {},
   "outputs": [
    {
     "data": {
      "text/plain": [
       "SimpleImputer(strategy='median')"
      ]
     },
     "execution_count": 35,
     "metadata": {},
     "output_type": "execute_result"
    }
   ],
   "source": [
    "imputer.fit(sub_loans_num)"
   ]
  },
  {
   "cell_type": "code",
   "execution_count": 36,
   "metadata": {},
   "outputs": [
    {
     "data": {
      "text/plain": [
       "array([3.60000000e+01, 1.20000000e+04, 3.61830000e+02, 1.39900000e+01,\n",
       "       7.00000000e+04, 6.00000000e+00, 4.64000000e+01, 1.06650000e+04,\n",
       "       0.00000000e+00, 1.10000000e+01, 0.00000000e+00, 0.00000000e+00,\n",
       "       1.78200000e+01, 2.30000000e+01, 0.00000000e+00, 0.00000000e+00,\n",
       "       1.20000000e+04, 1.20000000e+04, 7.01483139e+03])"
      ]
     },
     "execution_count": 36,
     "metadata": {},
     "output_type": "execute_result"
    }
   ],
   "source": [
    "imputer.statistics_"
   ]
  },
  {
   "cell_type": "markdown",
   "metadata": {},
   "source": [
    "Now we are going to transform the training set with this imputer by replacing missing values by the medians."
   ]
  },
  {
   "cell_type": "code",
   "execution_count": 37,
   "metadata": {},
   "outputs": [],
   "source": [
    "X = imputer.transform(sub_loans_num)"
   ]
  },
  {
   "cell_type": "markdown",
   "metadata": {},
   "source": [
    "The result is a plain NumPy array containing the transformed features. "
   ]
  },
  {
   "cell_type": "code",
   "execution_count": 38,
   "metadata": {},
   "outputs": [],
   "source": [
    "sub_loans_tr = pd.DataFrame(X, columns=sub_loans_num.columns,\n",
    "                          index=sub_loans.index)"
   ]
  },
  {
   "cell_type": "code",
   "execution_count": 39,
   "metadata": {},
   "outputs": [],
   "source": [
    "sub_loans_tr = pd.DataFrame(X, columns=sub_loans_num.columns,\n",
    "                          index=sub_loans_num.index)"
   ]
  },
  {
   "cell_type": "code",
   "execution_count": 40,
   "metadata": {},
   "outputs": [
    {
     "data": {
      "text/html": [
       "<div>\n",
       "<style scoped>\n",
       "    .dataframe tbody tr th:only-of-type {\n",
       "        vertical-align: middle;\n",
       "    }\n",
       "\n",
       "    .dataframe tbody tr th {\n",
       "        vertical-align: top;\n",
       "    }\n",
       "\n",
       "    .dataframe thead th {\n",
       "        text-align: right;\n",
       "    }\n",
       "</style>\n",
       "<table border=\"1\" class=\"dataframe\">\n",
       "  <thead>\n",
       "    <tr style=\"text-align: right;\">\n",
       "      <th></th>\n",
       "      <th>term</th>\n",
       "      <th>loan_amnt</th>\n",
       "      <th>installment</th>\n",
       "      <th>int_rate</th>\n",
       "      <th>annual_inc</th>\n",
       "      <th>emp_length</th>\n",
       "      <th>revol_util</th>\n",
       "      <th>revol_bal</th>\n",
       "      <th>pub_rec</th>\n",
       "      <th>open_acc</th>\n",
       "      <th>inq_last_6mths</th>\n",
       "      <th>delinq_2yrs</th>\n",
       "      <th>dti</th>\n",
       "      <th>total_acc</th>\n",
       "      <th>tax_liens</th>\n",
       "      <th>pub_rec_bankruptcies</th>\n",
       "      <th>funded_amnt_inv</th>\n",
       "      <th>funded_amnt</th>\n",
       "      <th>total_pymnt</th>\n",
       "    </tr>\n",
       "  </thead>\n",
       "  <tbody>\n",
       "    <tr>\n",
       "      <th>8</th>\n",
       "      <td>36.0</td>\n",
       "      <td>11575.0</td>\n",
       "      <td>359.26</td>\n",
       "      <td>7.35</td>\n",
       "      <td>153000.0</td>\n",
       "      <td>6.0</td>\n",
       "      <td>22.7</td>\n",
       "      <td>8550.0</td>\n",
       "      <td>1.0</td>\n",
       "      <td>20.0</td>\n",
       "      <td>0.0</td>\n",
       "      <td>0.0</td>\n",
       "      <td>16.99</td>\n",
       "      <td>46.0</td>\n",
       "      <td>0.0</td>\n",
       "      <td>1.0</td>\n",
       "      <td>11575.0</td>\n",
       "      <td>11575.0</td>\n",
       "      <td>11707.816236</td>\n",
       "    </tr>\n",
       "    <tr>\n",
       "      <th>10</th>\n",
       "      <td>36.0</td>\n",
       "      <td>7200.0</td>\n",
       "      <td>285.70</td>\n",
       "      <td>24.85</td>\n",
       "      <td>50000.0</td>\n",
       "      <td>2.0</td>\n",
       "      <td>98.9</td>\n",
       "      <td>3560.0</td>\n",
       "      <td>0.0</td>\n",
       "      <td>4.0</td>\n",
       "      <td>0.0</td>\n",
       "      <td>0.0</td>\n",
       "      <td>6.07</td>\n",
       "      <td>5.0</td>\n",
       "      <td>0.0</td>\n",
       "      <td>0.0</td>\n",
       "      <td>7200.0</td>\n",
       "      <td>7200.0</td>\n",
       "      <td>7206.461000</td>\n",
       "    </tr>\n",
       "    <tr>\n",
       "      <th>24</th>\n",
       "      <td>36.0</td>\n",
       "      <td>7500.0</td>\n",
       "      <td>232.79</td>\n",
       "      <td>7.35</td>\n",
       "      <td>110000.0</td>\n",
       "      <td>7.0</td>\n",
       "      <td>27.2</td>\n",
       "      <td>23348.0</td>\n",
       "      <td>0.0</td>\n",
       "      <td>19.0</td>\n",
       "      <td>2.0</td>\n",
       "      <td>0.0</td>\n",
       "      <td>13.12</td>\n",
       "      <td>27.0</td>\n",
       "      <td>0.0</td>\n",
       "      <td>0.0</td>\n",
       "      <td>7500.0</td>\n",
       "      <td>7500.0</td>\n",
       "      <td>7642.289180</td>\n",
       "    </tr>\n",
       "    <tr>\n",
       "      <th>42</th>\n",
       "      <td>60.0</td>\n",
       "      <td>10000.0</td>\n",
       "      <td>243.29</td>\n",
       "      <td>16.02</td>\n",
       "      <td>51979.0</td>\n",
       "      <td>7.0</td>\n",
       "      <td>20.0</td>\n",
       "      <td>5733.0</td>\n",
       "      <td>2.0</td>\n",
       "      <td>15.0</td>\n",
       "      <td>0.0</td>\n",
       "      <td>0.0</td>\n",
       "      <td>10.11</td>\n",
       "      <td>21.0</td>\n",
       "      <td>0.0</td>\n",
       "      <td>2.0</td>\n",
       "      <td>10000.0</td>\n",
       "      <td>10000.0</td>\n",
       "      <td>10026.700000</td>\n",
       "    </tr>\n",
       "    <tr>\n",
       "      <th>91</th>\n",
       "      <td>36.0</td>\n",
       "      <td>14000.0</td>\n",
       "      <td>492.34</td>\n",
       "      <td>16.02</td>\n",
       "      <td>75000.0</td>\n",
       "      <td>7.0</td>\n",
       "      <td>90.0</td>\n",
       "      <td>2700.0</td>\n",
       "      <td>0.0</td>\n",
       "      <td>4.0</td>\n",
       "      <td>0.0</td>\n",
       "      <td>1.0</td>\n",
       "      <td>10.86</td>\n",
       "      <td>10.0</td>\n",
       "      <td>0.0</td>\n",
       "      <td>0.0</td>\n",
       "      <td>14000.0</td>\n",
       "      <td>14000.0</td>\n",
       "      <td>14375.136851</td>\n",
       "    </tr>\n",
       "    <tr>\n",
       "      <th>...</th>\n",
       "      <td>...</td>\n",
       "      <td>...</td>\n",
       "      <td>...</td>\n",
       "      <td>...</td>\n",
       "      <td>...</td>\n",
       "      <td>...</td>\n",
       "      <td>...</td>\n",
       "      <td>...</td>\n",
       "      <td>...</td>\n",
       "      <td>...</td>\n",
       "      <td>...</td>\n",
       "      <td>...</td>\n",
       "      <td>...</td>\n",
       "      <td>...</td>\n",
       "      <td>...</td>\n",
       "      <td>...</td>\n",
       "      <td>...</td>\n",
       "      <td>...</td>\n",
       "      <td>...</td>\n",
       "    </tr>\n",
       "    <tr>\n",
       "      <th>105423</th>\n",
       "      <td>36.0</td>\n",
       "      <td>6000.0</td>\n",
       "      <td>216.89</td>\n",
       "      <td>17.99</td>\n",
       "      <td>49000.0</td>\n",
       "      <td>9.0</td>\n",
       "      <td>95.1</td>\n",
       "      <td>15972.0</td>\n",
       "      <td>0.0</td>\n",
       "      <td>12.0</td>\n",
       "      <td>2.0</td>\n",
       "      <td>1.0</td>\n",
       "      <td>25.32</td>\n",
       "      <td>22.0</td>\n",
       "      <td>0.0</td>\n",
       "      <td>0.0</td>\n",
       "      <td>6000.0</td>\n",
       "      <td>6000.0</td>\n",
       "      <td>6663.613679</td>\n",
       "    </tr>\n",
       "    <tr>\n",
       "      <th>105426</th>\n",
       "      <td>60.0</td>\n",
       "      <td>25275.0</td>\n",
       "      <td>797.52</td>\n",
       "      <td>28.69</td>\n",
       "      <td>98000.0</td>\n",
       "      <td>5.0</td>\n",
       "      <td>72.0</td>\n",
       "      <td>23099.0</td>\n",
       "      <td>1.0</td>\n",
       "      <td>15.0</td>\n",
       "      <td>0.0</td>\n",
       "      <td>0.0</td>\n",
       "      <td>26.50</td>\n",
       "      <td>32.0</td>\n",
       "      <td>0.0</td>\n",
       "      <td>1.0</td>\n",
       "      <td>25275.0</td>\n",
       "      <td>25275.0</td>\n",
       "      <td>27664.954786</td>\n",
       "    </tr>\n",
       "    <tr>\n",
       "      <th>105440</th>\n",
       "      <td>36.0</td>\n",
       "      <td>1000.0</td>\n",
       "      <td>34.67</td>\n",
       "      <td>14.99</td>\n",
       "      <td>27000.0</td>\n",
       "      <td>1.0</td>\n",
       "      <td>47.5</td>\n",
       "      <td>5608.0</td>\n",
       "      <td>0.0</td>\n",
       "      <td>7.0</td>\n",
       "      <td>1.0</td>\n",
       "      <td>0.0</td>\n",
       "      <td>9.56</td>\n",
       "      <td>26.0</td>\n",
       "      <td>0.0</td>\n",
       "      <td>0.0</td>\n",
       "      <td>1000.0</td>\n",
       "      <td>1000.0</td>\n",
       "      <td>1014.918899</td>\n",
       "    </tr>\n",
       "    <tr>\n",
       "      <th>105443</th>\n",
       "      <td>60.0</td>\n",
       "      <td>35000.0</td>\n",
       "      <td>814.21</td>\n",
       "      <td>13.99</td>\n",
       "      <td>100000.0</td>\n",
       "      <td>1.0</td>\n",
       "      <td>14.2</td>\n",
       "      <td>3162.0</td>\n",
       "      <td>1.0</td>\n",
       "      <td>9.0</td>\n",
       "      <td>1.0</td>\n",
       "      <td>0.0</td>\n",
       "      <td>8.32</td>\n",
       "      <td>34.0</td>\n",
       "      <td>0.0</td>\n",
       "      <td>1.0</td>\n",
       "      <td>35000.0</td>\n",
       "      <td>35000.0</td>\n",
       "      <td>37889.638884</td>\n",
       "    </tr>\n",
       "    <tr>\n",
       "      <th>105450</th>\n",
       "      <td>60.0</td>\n",
       "      <td>30000.0</td>\n",
       "      <td>889.18</td>\n",
       "      <td>25.49</td>\n",
       "      <td>105700.0</td>\n",
       "      <td>4.0</td>\n",
       "      <td>72.6</td>\n",
       "      <td>15252.0</td>\n",
       "      <td>0.0</td>\n",
       "      <td>12.0</td>\n",
       "      <td>0.0</td>\n",
       "      <td>1.0</td>\n",
       "      <td>27.26</td>\n",
       "      <td>23.0</td>\n",
       "      <td>0.0</td>\n",
       "      <td>0.0</td>\n",
       "      <td>30000.0</td>\n",
       "      <td>30000.0</td>\n",
       "      <td>1236.630000</td>\n",
       "    </tr>\n",
       "  </tbody>\n",
       "</table>\n",
       "<p>13310 rows × 19 columns</p>\n",
       "</div>"
      ],
      "text/plain": [
       "        term  loan_amnt  installment  int_rate  annual_inc  emp_length  \\\n",
       "8       36.0    11575.0       359.26      7.35    153000.0         6.0   \n",
       "10      36.0     7200.0       285.70     24.85     50000.0         2.0   \n",
       "24      36.0     7500.0       232.79      7.35    110000.0         7.0   \n",
       "42      60.0    10000.0       243.29     16.02     51979.0         7.0   \n",
       "91      36.0    14000.0       492.34     16.02     75000.0         7.0   \n",
       "...      ...        ...          ...       ...         ...         ...   \n",
       "105423  36.0     6000.0       216.89     17.99     49000.0         9.0   \n",
       "105426  60.0    25275.0       797.52     28.69     98000.0         5.0   \n",
       "105440  36.0     1000.0        34.67     14.99     27000.0         1.0   \n",
       "105443  60.0    35000.0       814.21     13.99    100000.0         1.0   \n",
       "105450  60.0    30000.0       889.18     25.49    105700.0         4.0   \n",
       "\n",
       "        revol_util  revol_bal  pub_rec  open_acc  inq_last_6mths  delinq_2yrs  \\\n",
       "8             22.7     8550.0      1.0      20.0             0.0          0.0   \n",
       "10            98.9     3560.0      0.0       4.0             0.0          0.0   \n",
       "24            27.2    23348.0      0.0      19.0             2.0          0.0   \n",
       "42            20.0     5733.0      2.0      15.0             0.0          0.0   \n",
       "91            90.0     2700.0      0.0       4.0             0.0          1.0   \n",
       "...            ...        ...      ...       ...             ...          ...   \n",
       "105423        95.1    15972.0      0.0      12.0             2.0          1.0   \n",
       "105426        72.0    23099.0      1.0      15.0             0.0          0.0   \n",
       "105440        47.5     5608.0      0.0       7.0             1.0          0.0   \n",
       "105443        14.2     3162.0      1.0       9.0             1.0          0.0   \n",
       "105450        72.6    15252.0      0.0      12.0             0.0          1.0   \n",
       "\n",
       "          dti  total_acc  tax_liens  pub_rec_bankruptcies  funded_amnt_inv  \\\n",
       "8       16.99       46.0        0.0                   1.0          11575.0   \n",
       "10       6.07        5.0        0.0                   0.0           7200.0   \n",
       "24      13.12       27.0        0.0                   0.0           7500.0   \n",
       "42      10.11       21.0        0.0                   2.0          10000.0   \n",
       "91      10.86       10.0        0.0                   0.0          14000.0   \n",
       "...       ...        ...        ...                   ...              ...   \n",
       "105423  25.32       22.0        0.0                   0.0           6000.0   \n",
       "105426  26.50       32.0        0.0                   1.0          25275.0   \n",
       "105440   9.56       26.0        0.0                   0.0           1000.0   \n",
       "105443   8.32       34.0        0.0                   1.0          35000.0   \n",
       "105450  27.26       23.0        0.0                   0.0          30000.0   \n",
       "\n",
       "        funded_amnt   total_pymnt  \n",
       "8           11575.0  11707.816236  \n",
       "10           7200.0   7206.461000  \n",
       "24           7500.0   7642.289180  \n",
       "42          10000.0  10026.700000  \n",
       "91          14000.0  14375.136851  \n",
       "...             ...           ...  \n",
       "105423       6000.0   6663.613679  \n",
       "105426      25275.0  27664.954786  \n",
       "105440       1000.0   1014.918899  \n",
       "105443      35000.0  37889.638884  \n",
       "105450      30000.0   1236.630000  \n",
       "\n",
       "[13310 rows x 19 columns]"
      ]
     },
     "execution_count": 40,
     "metadata": {},
     "output_type": "execute_result"
    }
   ],
   "source": [
    "sub_loans_tr"
   ]
  },
  {
   "cell_type": "code",
   "execution_count": 41,
   "metadata": {},
   "outputs": [],
   "source": [
    "sub_loans_cat = sub_loans.select_dtypes(include=[np.object])"
   ]
  },
  {
   "cell_type": "code",
   "execution_count": 42,
   "metadata": {},
   "outputs": [
    {
     "data": {
      "text/html": [
       "<div>\n",
       "<style scoped>\n",
       "    .dataframe tbody tr th:only-of-type {\n",
       "        vertical-align: middle;\n",
       "    }\n",
       "\n",
       "    .dataframe tbody tr th {\n",
       "        vertical-align: top;\n",
       "    }\n",
       "\n",
       "    .dataframe thead th {\n",
       "        text-align: right;\n",
       "    }\n",
       "</style>\n",
       "<table border=\"1\" class=\"dataframe\">\n",
       "  <thead>\n",
       "    <tr style=\"text-align: right;\">\n",
       "      <th></th>\n",
       "      <th>home_ownership</th>\n",
       "      <th>purpose</th>\n",
       "      <th>verification_status</th>\n",
       "      <th>loan_status</th>\n",
       "      <th>grade</th>\n",
       "      <th>sub_grade</th>\n",
       "    </tr>\n",
       "  </thead>\n",
       "  <tbody>\n",
       "    <tr>\n",
       "      <th>8</th>\n",
       "      <td>OWN</td>\n",
       "      <td>credit_card</td>\n",
       "      <td>Not Verified</td>\n",
       "      <td>Fully Paid</td>\n",
       "      <td>A</td>\n",
       "      <td>A4</td>\n",
       "    </tr>\n",
       "    <tr>\n",
       "      <th>10</th>\n",
       "      <td>RENT</td>\n",
       "      <td>debt_consolidation</td>\n",
       "      <td>Source Verified</td>\n",
       "      <td>Fully Paid</td>\n",
       "      <td>E</td>\n",
       "      <td>E3</td>\n",
       "    </tr>\n",
       "    <tr>\n",
       "      <th>24</th>\n",
       "      <td>MORTGAGE</td>\n",
       "      <td>debt_consolidation</td>\n",
       "      <td>Not Verified</td>\n",
       "      <td>Fully Paid</td>\n",
       "      <td>A</td>\n",
       "      <td>A4</td>\n",
       "    </tr>\n",
       "    <tr>\n",
       "      <th>42</th>\n",
       "      <td>RENT</td>\n",
       "      <td>debt_consolidation</td>\n",
       "      <td>Source Verified</td>\n",
       "      <td>Fully Paid</td>\n",
       "      <td>C</td>\n",
       "      <td>C5</td>\n",
       "    </tr>\n",
       "    <tr>\n",
       "      <th>91</th>\n",
       "      <td>MORTGAGE</td>\n",
       "      <td>debt_consolidation</td>\n",
       "      <td>Verified</td>\n",
       "      <td>Fully Paid</td>\n",
       "      <td>C</td>\n",
       "      <td>C5</td>\n",
       "    </tr>\n",
       "  </tbody>\n",
       "</table>\n",
       "</div>"
      ],
      "text/plain": [
       "   home_ownership             purpose verification_status loan_status grade  \\\n",
       "8             OWN         credit_card        Not Verified  Fully Paid     A   \n",
       "10           RENT  debt_consolidation     Source Verified  Fully Paid     E   \n",
       "24       MORTGAGE  debt_consolidation        Not Verified  Fully Paid     A   \n",
       "42           RENT  debt_consolidation     Source Verified  Fully Paid     C   \n",
       "91       MORTGAGE  debt_consolidation            Verified  Fully Paid     C   \n",
       "\n",
       "   sub_grade  \n",
       "8         A4  \n",
       "10        E3  \n",
       "24        A4  \n",
       "42        C5  \n",
       "91        C5  "
      ]
     },
     "execution_count": 42,
     "metadata": {},
     "output_type": "execute_result"
    }
   ],
   "source": [
    "sub_loans_cat.head()"
   ]
  },
  {
   "cell_type": "code",
   "execution_count": 43,
   "metadata": {},
   "outputs": [
    {
     "data": {
      "text/html": [
       "<div>\n",
       "<style scoped>\n",
       "    .dataframe tbody tr th:only-of-type {\n",
       "        vertical-align: middle;\n",
       "    }\n",
       "\n",
       "    .dataframe tbody tr th {\n",
       "        vertical-align: top;\n",
       "    }\n",
       "\n",
       "    .dataframe thead th {\n",
       "        text-align: right;\n",
       "    }\n",
       "</style>\n",
       "<table border=\"1\" class=\"dataframe\">\n",
       "  <thead>\n",
       "    <tr style=\"text-align: right;\">\n",
       "      <th></th>\n",
       "      <th>term</th>\n",
       "      <th>loan_amnt</th>\n",
       "      <th>installment</th>\n",
       "      <th>int_rate</th>\n",
       "      <th>annual_inc</th>\n",
       "      <th>emp_length</th>\n",
       "      <th>revol_util</th>\n",
       "      <th>revol_bal</th>\n",
       "      <th>pub_rec</th>\n",
       "      <th>open_acc</th>\n",
       "      <th>...</th>\n",
       "      <th>pub_rec_bankruptcies</th>\n",
       "      <th>funded_amnt_inv</th>\n",
       "      <th>funded_amnt</th>\n",
       "      <th>total_pymnt</th>\n",
       "      <th>home_ownership</th>\n",
       "      <th>purpose</th>\n",
       "      <th>verification_status</th>\n",
       "      <th>loan_status</th>\n",
       "      <th>grade</th>\n",
       "      <th>sub_grade</th>\n",
       "    </tr>\n",
       "  </thead>\n",
       "  <tbody>\n",
       "    <tr>\n",
       "      <th>8</th>\n",
       "      <td>36.0</td>\n",
       "      <td>11575.0</td>\n",
       "      <td>359.26</td>\n",
       "      <td>7.35</td>\n",
       "      <td>153000.0</td>\n",
       "      <td>6.0</td>\n",
       "      <td>22.7</td>\n",
       "      <td>8550.0</td>\n",
       "      <td>1.0</td>\n",
       "      <td>20.0</td>\n",
       "      <td>...</td>\n",
       "      <td>1.0</td>\n",
       "      <td>11575.0</td>\n",
       "      <td>11575.0</td>\n",
       "      <td>11707.816236</td>\n",
       "      <td>OWN</td>\n",
       "      <td>credit_card</td>\n",
       "      <td>Not Verified</td>\n",
       "      <td>Fully Paid</td>\n",
       "      <td>A</td>\n",
       "      <td>A4</td>\n",
       "    </tr>\n",
       "    <tr>\n",
       "      <th>10</th>\n",
       "      <td>36.0</td>\n",
       "      <td>7200.0</td>\n",
       "      <td>285.70</td>\n",
       "      <td>24.85</td>\n",
       "      <td>50000.0</td>\n",
       "      <td>2.0</td>\n",
       "      <td>98.9</td>\n",
       "      <td>3560.0</td>\n",
       "      <td>0.0</td>\n",
       "      <td>4.0</td>\n",
       "      <td>...</td>\n",
       "      <td>0.0</td>\n",
       "      <td>7200.0</td>\n",
       "      <td>7200.0</td>\n",
       "      <td>7206.461000</td>\n",
       "      <td>RENT</td>\n",
       "      <td>debt_consolidation</td>\n",
       "      <td>Source Verified</td>\n",
       "      <td>Fully Paid</td>\n",
       "      <td>E</td>\n",
       "      <td>E3</td>\n",
       "    </tr>\n",
       "    <tr>\n",
       "      <th>24</th>\n",
       "      <td>36.0</td>\n",
       "      <td>7500.0</td>\n",
       "      <td>232.79</td>\n",
       "      <td>7.35</td>\n",
       "      <td>110000.0</td>\n",
       "      <td>7.0</td>\n",
       "      <td>27.2</td>\n",
       "      <td>23348.0</td>\n",
       "      <td>0.0</td>\n",
       "      <td>19.0</td>\n",
       "      <td>...</td>\n",
       "      <td>0.0</td>\n",
       "      <td>7500.0</td>\n",
       "      <td>7500.0</td>\n",
       "      <td>7642.289180</td>\n",
       "      <td>MORTGAGE</td>\n",
       "      <td>debt_consolidation</td>\n",
       "      <td>Not Verified</td>\n",
       "      <td>Fully Paid</td>\n",
       "      <td>A</td>\n",
       "      <td>A4</td>\n",
       "    </tr>\n",
       "    <tr>\n",
       "      <th>42</th>\n",
       "      <td>60.0</td>\n",
       "      <td>10000.0</td>\n",
       "      <td>243.29</td>\n",
       "      <td>16.02</td>\n",
       "      <td>51979.0</td>\n",
       "      <td>7.0</td>\n",
       "      <td>20.0</td>\n",
       "      <td>5733.0</td>\n",
       "      <td>2.0</td>\n",
       "      <td>15.0</td>\n",
       "      <td>...</td>\n",
       "      <td>2.0</td>\n",
       "      <td>10000.0</td>\n",
       "      <td>10000.0</td>\n",
       "      <td>10026.700000</td>\n",
       "      <td>RENT</td>\n",
       "      <td>debt_consolidation</td>\n",
       "      <td>Source Verified</td>\n",
       "      <td>Fully Paid</td>\n",
       "      <td>C</td>\n",
       "      <td>C5</td>\n",
       "    </tr>\n",
       "    <tr>\n",
       "      <th>91</th>\n",
       "      <td>36.0</td>\n",
       "      <td>14000.0</td>\n",
       "      <td>492.34</td>\n",
       "      <td>16.02</td>\n",
       "      <td>75000.0</td>\n",
       "      <td>7.0</td>\n",
       "      <td>90.0</td>\n",
       "      <td>2700.0</td>\n",
       "      <td>0.0</td>\n",
       "      <td>4.0</td>\n",
       "      <td>...</td>\n",
       "      <td>0.0</td>\n",
       "      <td>14000.0</td>\n",
       "      <td>14000.0</td>\n",
       "      <td>14375.136851</td>\n",
       "      <td>MORTGAGE</td>\n",
       "      <td>debt_consolidation</td>\n",
       "      <td>Verified</td>\n",
       "      <td>Fully Paid</td>\n",
       "      <td>C</td>\n",
       "      <td>C5</td>\n",
       "    </tr>\n",
       "    <tr>\n",
       "      <th>...</th>\n",
       "      <td>...</td>\n",
       "      <td>...</td>\n",
       "      <td>...</td>\n",
       "      <td>...</td>\n",
       "      <td>...</td>\n",
       "      <td>...</td>\n",
       "      <td>...</td>\n",
       "      <td>...</td>\n",
       "      <td>...</td>\n",
       "      <td>...</td>\n",
       "      <td>...</td>\n",
       "      <td>...</td>\n",
       "      <td>...</td>\n",
       "      <td>...</td>\n",
       "      <td>...</td>\n",
       "      <td>...</td>\n",
       "      <td>...</td>\n",
       "      <td>...</td>\n",
       "      <td>...</td>\n",
       "      <td>...</td>\n",
       "      <td>...</td>\n",
       "    </tr>\n",
       "    <tr>\n",
       "      <th>105423</th>\n",
       "      <td>36.0</td>\n",
       "      <td>6000.0</td>\n",
       "      <td>216.89</td>\n",
       "      <td>17.99</td>\n",
       "      <td>49000.0</td>\n",
       "      <td>9.0</td>\n",
       "      <td>95.1</td>\n",
       "      <td>15972.0</td>\n",
       "      <td>0.0</td>\n",
       "      <td>12.0</td>\n",
       "      <td>...</td>\n",
       "      <td>0.0</td>\n",
       "      <td>6000.0</td>\n",
       "      <td>6000.0</td>\n",
       "      <td>6663.613679</td>\n",
       "      <td>MORTGAGE</td>\n",
       "      <td>credit_card</td>\n",
       "      <td>Verified</td>\n",
       "      <td>Fully Paid</td>\n",
       "      <td>D</td>\n",
       "      <td>D2</td>\n",
       "    </tr>\n",
       "    <tr>\n",
       "      <th>105426</th>\n",
       "      <td>60.0</td>\n",
       "      <td>25275.0</td>\n",
       "      <td>797.52</td>\n",
       "      <td>28.69</td>\n",
       "      <td>98000.0</td>\n",
       "      <td>5.0</td>\n",
       "      <td>72.0</td>\n",
       "      <td>23099.0</td>\n",
       "      <td>1.0</td>\n",
       "      <td>15.0</td>\n",
       "      <td>...</td>\n",
       "      <td>1.0</td>\n",
       "      <td>25275.0</td>\n",
       "      <td>25275.0</td>\n",
       "      <td>27664.954786</td>\n",
       "      <td>MORTGAGE</td>\n",
       "      <td>debt_consolidation</td>\n",
       "      <td>Not Verified</td>\n",
       "      <td>Fully Paid</td>\n",
       "      <td>F</td>\n",
       "      <td>F1</td>\n",
       "    </tr>\n",
       "    <tr>\n",
       "      <th>105440</th>\n",
       "      <td>36.0</td>\n",
       "      <td>1000.0</td>\n",
       "      <td>34.67</td>\n",
       "      <td>14.99</td>\n",
       "      <td>27000.0</td>\n",
       "      <td>1.0</td>\n",
       "      <td>47.5</td>\n",
       "      <td>5608.0</td>\n",
       "      <td>0.0</td>\n",
       "      <td>7.0</td>\n",
       "      <td>...</td>\n",
       "      <td>0.0</td>\n",
       "      <td>1000.0</td>\n",
       "      <td>1000.0</td>\n",
       "      <td>1014.918899</td>\n",
       "      <td>RENT</td>\n",
       "      <td>debt_consolidation</td>\n",
       "      <td>Verified</td>\n",
       "      <td>Fully Paid</td>\n",
       "      <td>C</td>\n",
       "      <td>C4</td>\n",
       "    </tr>\n",
       "    <tr>\n",
       "      <th>105443</th>\n",
       "      <td>60.0</td>\n",
       "      <td>35000.0</td>\n",
       "      <td>814.21</td>\n",
       "      <td>13.99</td>\n",
       "      <td>100000.0</td>\n",
       "      <td>1.0</td>\n",
       "      <td>14.2</td>\n",
       "      <td>3162.0</td>\n",
       "      <td>1.0</td>\n",
       "      <td>9.0</td>\n",
       "      <td>...</td>\n",
       "      <td>1.0</td>\n",
       "      <td>35000.0</td>\n",
       "      <td>35000.0</td>\n",
       "      <td>37889.638884</td>\n",
       "      <td>MORTGAGE</td>\n",
       "      <td>debt_consolidation</td>\n",
       "      <td>Source Verified</td>\n",
       "      <td>Fully Paid</td>\n",
       "      <td>C</td>\n",
       "      <td>C3</td>\n",
       "    </tr>\n",
       "    <tr>\n",
       "      <th>105450</th>\n",
       "      <td>60.0</td>\n",
       "      <td>30000.0</td>\n",
       "      <td>889.18</td>\n",
       "      <td>25.49</td>\n",
       "      <td>105700.0</td>\n",
       "      <td>4.0</td>\n",
       "      <td>72.6</td>\n",
       "      <td>15252.0</td>\n",
       "      <td>0.0</td>\n",
       "      <td>12.0</td>\n",
       "      <td>...</td>\n",
       "      <td>0.0</td>\n",
       "      <td>30000.0</td>\n",
       "      <td>30000.0</td>\n",
       "      <td>1236.630000</td>\n",
       "      <td>MORTGAGE</td>\n",
       "      <td>debt_consolidation</td>\n",
       "      <td>Verified</td>\n",
       "      <td>Charged Off</td>\n",
       "      <td>E</td>\n",
       "      <td>E4</td>\n",
       "    </tr>\n",
       "  </tbody>\n",
       "</table>\n",
       "<p>13310 rows × 25 columns</p>\n",
       "</div>"
      ],
      "text/plain": [
       "        term  loan_amnt  installment  int_rate  annual_inc  emp_length  \\\n",
       "8       36.0    11575.0       359.26      7.35    153000.0         6.0   \n",
       "10      36.0     7200.0       285.70     24.85     50000.0         2.0   \n",
       "24      36.0     7500.0       232.79      7.35    110000.0         7.0   \n",
       "42      60.0    10000.0       243.29     16.02     51979.0         7.0   \n",
       "91      36.0    14000.0       492.34     16.02     75000.0         7.0   \n",
       "...      ...        ...          ...       ...         ...         ...   \n",
       "105423  36.0     6000.0       216.89     17.99     49000.0         9.0   \n",
       "105426  60.0    25275.0       797.52     28.69     98000.0         5.0   \n",
       "105440  36.0     1000.0        34.67     14.99     27000.0         1.0   \n",
       "105443  60.0    35000.0       814.21     13.99    100000.0         1.0   \n",
       "105450  60.0    30000.0       889.18     25.49    105700.0         4.0   \n",
       "\n",
       "        revol_util  revol_bal  pub_rec  open_acc  ...  pub_rec_bankruptcies  \\\n",
       "8             22.7     8550.0      1.0      20.0  ...                   1.0   \n",
       "10            98.9     3560.0      0.0       4.0  ...                   0.0   \n",
       "24            27.2    23348.0      0.0      19.0  ...                   0.0   \n",
       "42            20.0     5733.0      2.0      15.0  ...                   2.0   \n",
       "91            90.0     2700.0      0.0       4.0  ...                   0.0   \n",
       "...            ...        ...      ...       ...  ...                   ...   \n",
       "105423        95.1    15972.0      0.0      12.0  ...                   0.0   \n",
       "105426        72.0    23099.0      1.0      15.0  ...                   1.0   \n",
       "105440        47.5     5608.0      0.0       7.0  ...                   0.0   \n",
       "105443        14.2     3162.0      1.0       9.0  ...                   1.0   \n",
       "105450        72.6    15252.0      0.0      12.0  ...                   0.0   \n",
       "\n",
       "        funded_amnt_inv  funded_amnt   total_pymnt  home_ownership  \\\n",
       "8               11575.0      11575.0  11707.816236             OWN   \n",
       "10               7200.0       7200.0   7206.461000            RENT   \n",
       "24               7500.0       7500.0   7642.289180        MORTGAGE   \n",
       "42              10000.0      10000.0  10026.700000            RENT   \n",
       "91              14000.0      14000.0  14375.136851        MORTGAGE   \n",
       "...                 ...          ...           ...             ...   \n",
       "105423           6000.0       6000.0   6663.613679        MORTGAGE   \n",
       "105426          25275.0      25275.0  27664.954786        MORTGAGE   \n",
       "105440           1000.0       1000.0   1014.918899            RENT   \n",
       "105443          35000.0      35000.0  37889.638884        MORTGAGE   \n",
       "105450          30000.0      30000.0   1236.630000        MORTGAGE   \n",
       "\n",
       "                   purpose  verification_status  loan_status  grade sub_grade  \n",
       "8              credit_card         Not Verified   Fully Paid      A        A4  \n",
       "10      debt_consolidation      Source Verified   Fully Paid      E        E3  \n",
       "24      debt_consolidation         Not Verified   Fully Paid      A        A4  \n",
       "42      debt_consolidation      Source Verified   Fully Paid      C        C5  \n",
       "91      debt_consolidation             Verified   Fully Paid      C        C5  \n",
       "...                    ...                  ...          ...    ...       ...  \n",
       "105423         credit_card             Verified   Fully Paid      D        D2  \n",
       "105426  debt_consolidation         Not Verified   Fully Paid      F        F1  \n",
       "105440  debt_consolidation             Verified   Fully Paid      C        C4  \n",
       "105443  debt_consolidation      Source Verified   Fully Paid      C        C3  \n",
       "105450  debt_consolidation             Verified  Charged Off      E        E4  \n",
       "\n",
       "[13310 rows x 25 columns]"
      ]
     },
     "execution_count": 43,
     "metadata": {},
     "output_type": "execute_result"
    }
   ],
   "source": [
    "sub_loans = pd.merge(sub_loans_tr, sub_loans_cat, left_index = True, right_index = True)\n",
    "sub_loans"
   ]
  },
  {
   "cell_type": "markdown",
   "metadata": {},
   "source": [
    "### Handling Text and Categorical Attributes"
   ]
  },
  {
   "cell_type": "markdown",
   "metadata": {},
   "source": [
    "As the categorical attributes were left out when cleaning the data, we are coing to convert these categories from text to numbers.\n",
    "First, we need to study the categorical attributes in order to know what method to use when transforming them to numericals. There are 5 categorical columns in total. Our dummy attribute is the column loan status taking as 1 those loans that are Current, and 0 those that are Fully paid.\n"
   ]
  },
  {
   "cell_type": "code",
   "execution_count": 44,
   "metadata": {},
   "outputs": [
    {
     "data": {
      "text/plain": [
       "term                    float64\n",
       "loan_amnt               float64\n",
       "installment             float64\n",
       "int_rate                float64\n",
       "annual_inc              float64\n",
       "emp_length              float64\n",
       "revol_util              float64\n",
       "revol_bal               float64\n",
       "pub_rec                 float64\n",
       "open_acc                float64\n",
       "inq_last_6mths          float64\n",
       "delinq_2yrs             float64\n",
       "dti                     float64\n",
       "total_acc               float64\n",
       "tax_liens               float64\n",
       "pub_rec_bankruptcies    float64\n",
       "funded_amnt_inv         float64\n",
       "funded_amnt             float64\n",
       "total_pymnt             float64\n",
       "home_ownership           object\n",
       "purpose                  object\n",
       "verification_status      object\n",
       "loan_status              object\n",
       "grade                    object\n",
       "sub_grade                object\n",
       "dtype: object"
      ]
     },
     "execution_count": 44,
     "metadata": {},
     "output_type": "execute_result"
    }
   ],
   "source": [
    "sub_loans.dtypes"
   ]
  },
  {
   "cell_type": "markdown",
   "metadata": {},
   "source": [
    "#### One Hot Encoder \n"
   ]
  },
  {
   "cell_type": "markdown",
   "metadata": {},
   "source": [
    "For our attribute loan status we are going to use the method One Hot Encoder from sklearn.preprocessing."
   ]
  },
  {
   "cell_type": "code",
   "execution_count": 45,
   "metadata": {},
   "outputs": [
    {
     "data": {
      "text/plain": [
       "Fully Paid            9043\n",
       "Late (31-120 days)    1895\n",
       "In Grace Period        923\n",
       "Charged Off            881\n",
       "Late (16-30 days)      567\n",
       "Default                  1\n",
       "Name: loan_status, dtype: int64"
      ]
     },
     "execution_count": 45,
     "metadata": {},
     "output_type": "execute_result"
    }
   ],
   "source": [
    "sub_loans.loan_status.value_counts()"
   ]
  },
  {
   "cell_type": "code",
   "execution_count": 46,
   "metadata": {},
   "outputs": [],
   "source": [
    "status_dummy = map(lambda x: 1 if x == \"Fully Paid\" else 0, sub_loans.loan_status)\n",
    "sub_loans['loan_status'] = list(status_dummy)"
   ]
  },
  {
   "cell_type": "code",
   "execution_count": 47,
   "metadata": {},
   "outputs": [
    {
     "data": {
      "text/plain": [
       "array([1, 0])"
      ]
     },
     "execution_count": 47,
     "metadata": {},
     "output_type": "execute_result"
    }
   ],
   "source": [
    "sub_loans['loan_status'].unique()"
   ]
  },
  {
   "cell_type": "code",
   "execution_count": 48,
   "metadata": {},
   "outputs": [],
   "source": [
    "sub_loans['loan_status']=sub_loans.loan_status.astype(float)"
   ]
  },
  {
   "cell_type": "code",
   "execution_count": 49,
   "metadata": {},
   "outputs": [
    {
     "data": {
      "text/plain": [
       "term                    float64\n",
       "loan_amnt               float64\n",
       "installment             float64\n",
       "int_rate                float64\n",
       "annual_inc              float64\n",
       "emp_length              float64\n",
       "revol_util              float64\n",
       "revol_bal               float64\n",
       "pub_rec                 float64\n",
       "open_acc                float64\n",
       "inq_last_6mths          float64\n",
       "delinq_2yrs             float64\n",
       "dti                     float64\n",
       "total_acc               float64\n",
       "tax_liens               float64\n",
       "pub_rec_bankruptcies    float64\n",
       "funded_amnt_inv         float64\n",
       "funded_amnt             float64\n",
       "total_pymnt             float64\n",
       "home_ownership           object\n",
       "purpose                  object\n",
       "verification_status      object\n",
       "loan_status             float64\n",
       "grade                    object\n",
       "sub_grade                object\n",
       "dtype: object"
      ]
     },
     "execution_count": 49,
     "metadata": {},
     "output_type": "execute_result"
    }
   ],
   "source": [
    "sub_loans.dtypes"
   ]
  },
  {
   "cell_type": "markdown",
   "metadata": {},
   "source": [
    "#### Ordinal Encoder"
   ]
  },
  {
   "cell_type": "markdown",
   "metadata": {},
   "source": [
    "For the rest of the categorical attributes we are using the Ordinal encoder."
   ]
  },
  {
   "cell_type": "markdown",
   "metadata": {},
   "source": [
    "###### 1.1.  Home ownership:"
   ]
  },
  {
   "cell_type": "code",
   "execution_count": 50,
   "metadata": {},
   "outputs": [
    {
     "data": {
      "text/plain": [
       "array([[2.],\n",
       "       [3.],\n",
       "       [1.],\n",
       "       [3.],\n",
       "       [1.],\n",
       "       [1.],\n",
       "       [3.],\n",
       "       [2.],\n",
       "       [3.],\n",
       "       [1.]])"
      ]
     },
     "execution_count": 50,
     "metadata": {},
     "output_type": "execute_result"
    }
   ],
   "source": [
    "home_cat = sub_loans[[\"home_ownership\"]]\n",
    "ordinal_encoder = OrdinalEncoder()\n",
    "home_cat_encoded = ordinal_encoder.fit_transform(home_cat)\n",
    "home_cat_encoded[:10]"
   ]
  },
  {
   "cell_type": "markdown",
   "metadata": {},
   "source": [
    "###### 1.2. Purpose:"
   ]
  },
  {
   "cell_type": "code",
   "execution_count": 51,
   "metadata": {},
   "outputs": [
    {
     "data": {
      "text/plain": [
       "array([[1.],\n",
       "       [2.],\n",
       "       [2.],\n",
       "       [2.],\n",
       "       [2.],\n",
       "       [3.],\n",
       "       [1.],\n",
       "       [1.],\n",
       "       [2.],\n",
       "       [2.]])"
      ]
     },
     "execution_count": 51,
     "metadata": {},
     "output_type": "execute_result"
    }
   ],
   "source": [
    "purpose_cat = sub_loans[[\"purpose\"]]\n",
    "purpose_cat_encoded = ordinal_encoder.fit_transform(purpose_cat)\n",
    "purpose_cat_encoded[:10]"
   ]
  },
  {
   "cell_type": "markdown",
   "metadata": {},
   "source": [
    "###### 1.3.  Grade:"
   ]
  },
  {
   "cell_type": "code",
   "execution_count": 52,
   "metadata": {},
   "outputs": [
    {
     "data": {
      "text/plain": [
       "array([[0.],\n",
       "       [4.],\n",
       "       [0.],\n",
       "       [2.],\n",
       "       [2.],\n",
       "       [6.],\n",
       "       [3.],\n",
       "       [1.],\n",
       "       [3.],\n",
       "       [1.]])"
      ]
     },
     "execution_count": 52,
     "metadata": {},
     "output_type": "execute_result"
    }
   ],
   "source": [
    "grade_cat = sub_loans[[\"grade\"]]\n",
    "grade_cat_encoded = ordinal_encoder.fit_transform(grade_cat)\n",
    "grade_cat_encoded[:10]"
   ]
  },
  {
   "cell_type": "markdown",
   "metadata": {},
   "source": [
    "###### 1.4.  Sub grade:"
   ]
  },
  {
   "cell_type": "code",
   "execution_count": 53,
   "metadata": {},
   "outputs": [
    {
     "data": {
      "text/plain": [
       "array([[ 3.],\n",
       "       [22.],\n",
       "       [ 3.],\n",
       "       [14.],\n",
       "       [14.],\n",
       "       [30.],\n",
       "       [18.],\n",
       "       [ 9.],\n",
       "       [16.],\n",
       "       [ 8.]])"
      ]
     },
     "execution_count": 53,
     "metadata": {},
     "output_type": "execute_result"
    }
   ],
   "source": [
    "sub_grade_cat = sub_loans[[\"sub_grade\"]]\n",
    "sub_grade_cat_encoded = ordinal_encoder.fit_transform(sub_grade_cat)\n",
    "sub_grade_cat_encoded[:10]"
   ]
  },
  {
   "cell_type": "markdown",
   "metadata": {},
   "source": [
    "###### 1.5.  Verification status:"
   ]
  },
  {
   "cell_type": "code",
   "execution_count": 54,
   "metadata": {},
   "outputs": [
    {
     "data": {
      "text/plain": [
       "array([[0.],\n",
       "       [1.],\n",
       "       [0.],\n",
       "       [1.],\n",
       "       [2.],\n",
       "       [1.],\n",
       "       [0.],\n",
       "       [1.],\n",
       "       [2.],\n",
       "       [2.]])"
      ]
     },
     "execution_count": 54,
     "metadata": {},
     "output_type": "execute_result"
    }
   ],
   "source": [
    "verif_status_cat = sub_loans[[\"verification_status\"]]\n",
    "verif_status_cat_encoded = ordinal_encoder.fit_transform(verif_status_cat)\n",
    "verif_status_cat_encoded[:10]"
   ]
  },
  {
   "cell_type": "code",
   "execution_count": 55,
   "metadata": {},
   "outputs": [],
   "source": [
    "sub_loans['home_ownership']=home_cat_encoded\n",
    "sub_loans['purpose']=purpose_cat_encoded\n",
    "sub_loans['sub_grade']=sub_grade_cat_encoded \n",
    "sub_loans['grade']=grade_cat_encoded \n",
    "sub_loans[\"verification_status\"]=verif_status_cat_encoded \n"
   ]
  },
  {
   "cell_type": "code",
   "execution_count": 56,
   "metadata": {},
   "outputs": [
    {
     "data": {
      "text/html": [
       "<div>\n",
       "<style scoped>\n",
       "    .dataframe tbody tr th:only-of-type {\n",
       "        vertical-align: middle;\n",
       "    }\n",
       "\n",
       "    .dataframe tbody tr th {\n",
       "        vertical-align: top;\n",
       "    }\n",
       "\n",
       "    .dataframe thead th {\n",
       "        text-align: right;\n",
       "    }\n",
       "</style>\n",
       "<table border=\"1\" class=\"dataframe\">\n",
       "  <thead>\n",
       "    <tr style=\"text-align: right;\">\n",
       "      <th></th>\n",
       "      <th>loan_status</th>\n",
       "      <th>home_ownership</th>\n",
       "      <th>purpose</th>\n",
       "      <th>grade</th>\n",
       "      <th>sub_grade</th>\n",
       "      <th>verification_status</th>\n",
       "    </tr>\n",
       "  </thead>\n",
       "  <tbody>\n",
       "    <tr>\n",
       "      <th>8</th>\n",
       "      <td>1.0</td>\n",
       "      <td>2.0</td>\n",
       "      <td>1.0</td>\n",
       "      <td>0.0</td>\n",
       "      <td>3.0</td>\n",
       "      <td>0.0</td>\n",
       "    </tr>\n",
       "    <tr>\n",
       "      <th>10</th>\n",
       "      <td>1.0</td>\n",
       "      <td>3.0</td>\n",
       "      <td>2.0</td>\n",
       "      <td>4.0</td>\n",
       "      <td>22.0</td>\n",
       "      <td>1.0</td>\n",
       "    </tr>\n",
       "    <tr>\n",
       "      <th>24</th>\n",
       "      <td>1.0</td>\n",
       "      <td>1.0</td>\n",
       "      <td>2.0</td>\n",
       "      <td>0.0</td>\n",
       "      <td>3.0</td>\n",
       "      <td>0.0</td>\n",
       "    </tr>\n",
       "    <tr>\n",
       "      <th>42</th>\n",
       "      <td>1.0</td>\n",
       "      <td>3.0</td>\n",
       "      <td>2.0</td>\n",
       "      <td>2.0</td>\n",
       "      <td>14.0</td>\n",
       "      <td>1.0</td>\n",
       "    </tr>\n",
       "    <tr>\n",
       "      <th>91</th>\n",
       "      <td>1.0</td>\n",
       "      <td>1.0</td>\n",
       "      <td>2.0</td>\n",
       "      <td>2.0</td>\n",
       "      <td>14.0</td>\n",
       "      <td>2.0</td>\n",
       "    </tr>\n",
       "    <tr>\n",
       "      <th>...</th>\n",
       "      <td>...</td>\n",
       "      <td>...</td>\n",
       "      <td>...</td>\n",
       "      <td>...</td>\n",
       "      <td>...</td>\n",
       "      <td>...</td>\n",
       "    </tr>\n",
       "    <tr>\n",
       "      <th>105423</th>\n",
       "      <td>1.0</td>\n",
       "      <td>1.0</td>\n",
       "      <td>1.0</td>\n",
       "      <td>3.0</td>\n",
       "      <td>16.0</td>\n",
       "      <td>2.0</td>\n",
       "    </tr>\n",
       "    <tr>\n",
       "      <th>105426</th>\n",
       "      <td>1.0</td>\n",
       "      <td>1.0</td>\n",
       "      <td>2.0</td>\n",
       "      <td>5.0</td>\n",
       "      <td>25.0</td>\n",
       "      <td>0.0</td>\n",
       "    </tr>\n",
       "    <tr>\n",
       "      <th>105440</th>\n",
       "      <td>1.0</td>\n",
       "      <td>3.0</td>\n",
       "      <td>2.0</td>\n",
       "      <td>2.0</td>\n",
       "      <td>13.0</td>\n",
       "      <td>2.0</td>\n",
       "    </tr>\n",
       "    <tr>\n",
       "      <th>105443</th>\n",
       "      <td>1.0</td>\n",
       "      <td>1.0</td>\n",
       "      <td>2.0</td>\n",
       "      <td>2.0</td>\n",
       "      <td>12.0</td>\n",
       "      <td>1.0</td>\n",
       "    </tr>\n",
       "    <tr>\n",
       "      <th>105450</th>\n",
       "      <td>0.0</td>\n",
       "      <td>1.0</td>\n",
       "      <td>2.0</td>\n",
       "      <td>4.0</td>\n",
       "      <td>23.0</td>\n",
       "      <td>2.0</td>\n",
       "    </tr>\n",
       "  </tbody>\n",
       "</table>\n",
       "<p>13310 rows × 6 columns</p>\n",
       "</div>"
      ],
      "text/plain": [
       "        loan_status  home_ownership  purpose  grade  sub_grade  \\\n",
       "8               1.0             2.0      1.0    0.0        3.0   \n",
       "10              1.0             3.0      2.0    4.0       22.0   \n",
       "24              1.0             1.0      2.0    0.0        3.0   \n",
       "42              1.0             3.0      2.0    2.0       14.0   \n",
       "91              1.0             1.0      2.0    2.0       14.0   \n",
       "...             ...             ...      ...    ...        ...   \n",
       "105423          1.0             1.0      1.0    3.0       16.0   \n",
       "105426          1.0             1.0      2.0    5.0       25.0   \n",
       "105440          1.0             3.0      2.0    2.0       13.0   \n",
       "105443          1.0             1.0      2.0    2.0       12.0   \n",
       "105450          0.0             1.0      2.0    4.0       23.0   \n",
       "\n",
       "        verification_status  \n",
       "8                       0.0  \n",
       "10                      1.0  \n",
       "24                      0.0  \n",
       "42                      1.0  \n",
       "91                      2.0  \n",
       "...                     ...  \n",
       "105423                  2.0  \n",
       "105426                  0.0  \n",
       "105440                  2.0  \n",
       "105443                  1.0  \n",
       "105450                  2.0  \n",
       "\n",
       "[13310 rows x 6 columns]"
      ]
     },
     "execution_count": 56,
     "metadata": {},
     "output_type": "execute_result"
    }
   ],
   "source": [
    "categorical = sub_loans[[\"loan_status\", \"home_ownership\", \"purpose\", 'grade', 'sub_grade', 'verification_status']] \n",
    "categorical\n",
    "\n"
   ]
  },
  {
   "cell_type": "markdown",
   "metadata": {},
   "source": [
    "## Outliers"
   ]
  },
  {
   "cell_type": "code",
   "execution_count": 57,
   "metadata": {},
   "outputs": [
    {
     "data": {
      "text/html": [
       "<div>\n",
       "<style scoped>\n",
       "    .dataframe tbody tr th:only-of-type {\n",
       "        vertical-align: middle;\n",
       "    }\n",
       "\n",
       "    .dataframe tbody tr th {\n",
       "        vertical-align: top;\n",
       "    }\n",
       "\n",
       "    .dataframe thead th {\n",
       "        text-align: right;\n",
       "    }\n",
       "</style>\n",
       "<table border=\"1\" class=\"dataframe\">\n",
       "  <thead>\n",
       "    <tr style=\"text-align: right;\">\n",
       "      <th></th>\n",
       "      <th>term</th>\n",
       "      <th>loan_amnt</th>\n",
       "      <th>installment</th>\n",
       "      <th>int_rate</th>\n",
       "      <th>annual_inc</th>\n",
       "      <th>emp_length</th>\n",
       "      <th>revol_util</th>\n",
       "      <th>revol_bal</th>\n",
       "      <th>pub_rec</th>\n",
       "      <th>open_acc</th>\n",
       "      <th>...</th>\n",
       "      <th>pub_rec_bankruptcies</th>\n",
       "      <th>funded_amnt_inv</th>\n",
       "      <th>funded_amnt</th>\n",
       "      <th>total_pymnt</th>\n",
       "      <th>home_ownership</th>\n",
       "      <th>purpose</th>\n",
       "      <th>verification_status</th>\n",
       "      <th>loan_status</th>\n",
       "      <th>grade</th>\n",
       "      <th>sub_grade</th>\n",
       "    </tr>\n",
       "  </thead>\n",
       "  <tbody>\n",
       "    <tr>\n",
       "      <th>8</th>\n",
       "      <td>36.0</td>\n",
       "      <td>11575.0</td>\n",
       "      <td>359.26</td>\n",
       "      <td>7.35</td>\n",
       "      <td>153000.0</td>\n",
       "      <td>6.0</td>\n",
       "      <td>22.7</td>\n",
       "      <td>8550.0</td>\n",
       "      <td>1.0</td>\n",
       "      <td>20.0</td>\n",
       "      <td>...</td>\n",
       "      <td>1.0</td>\n",
       "      <td>11575.0</td>\n",
       "      <td>11575.0</td>\n",
       "      <td>11707.816236</td>\n",
       "      <td>2.0</td>\n",
       "      <td>1.0</td>\n",
       "      <td>0.0</td>\n",
       "      <td>1.0</td>\n",
       "      <td>0.0</td>\n",
       "      <td>3.0</td>\n",
       "    </tr>\n",
       "    <tr>\n",
       "      <th>10</th>\n",
       "      <td>36.0</td>\n",
       "      <td>7200.0</td>\n",
       "      <td>285.70</td>\n",
       "      <td>24.85</td>\n",
       "      <td>50000.0</td>\n",
       "      <td>2.0</td>\n",
       "      <td>98.9</td>\n",
       "      <td>3560.0</td>\n",
       "      <td>0.0</td>\n",
       "      <td>4.0</td>\n",
       "      <td>...</td>\n",
       "      <td>0.0</td>\n",
       "      <td>7200.0</td>\n",
       "      <td>7200.0</td>\n",
       "      <td>7206.461000</td>\n",
       "      <td>3.0</td>\n",
       "      <td>2.0</td>\n",
       "      <td>1.0</td>\n",
       "      <td>1.0</td>\n",
       "      <td>4.0</td>\n",
       "      <td>22.0</td>\n",
       "    </tr>\n",
       "    <tr>\n",
       "      <th>24</th>\n",
       "      <td>36.0</td>\n",
       "      <td>7500.0</td>\n",
       "      <td>232.79</td>\n",
       "      <td>7.35</td>\n",
       "      <td>110000.0</td>\n",
       "      <td>7.0</td>\n",
       "      <td>27.2</td>\n",
       "      <td>23348.0</td>\n",
       "      <td>0.0</td>\n",
       "      <td>19.0</td>\n",
       "      <td>...</td>\n",
       "      <td>0.0</td>\n",
       "      <td>7500.0</td>\n",
       "      <td>7500.0</td>\n",
       "      <td>7642.289180</td>\n",
       "      <td>1.0</td>\n",
       "      <td>2.0</td>\n",
       "      <td>0.0</td>\n",
       "      <td>1.0</td>\n",
       "      <td>0.0</td>\n",
       "      <td>3.0</td>\n",
       "    </tr>\n",
       "    <tr>\n",
       "      <th>42</th>\n",
       "      <td>60.0</td>\n",
       "      <td>10000.0</td>\n",
       "      <td>243.29</td>\n",
       "      <td>16.02</td>\n",
       "      <td>51979.0</td>\n",
       "      <td>7.0</td>\n",
       "      <td>20.0</td>\n",
       "      <td>5733.0</td>\n",
       "      <td>2.0</td>\n",
       "      <td>15.0</td>\n",
       "      <td>...</td>\n",
       "      <td>2.0</td>\n",
       "      <td>10000.0</td>\n",
       "      <td>10000.0</td>\n",
       "      <td>10026.700000</td>\n",
       "      <td>3.0</td>\n",
       "      <td>2.0</td>\n",
       "      <td>1.0</td>\n",
       "      <td>1.0</td>\n",
       "      <td>2.0</td>\n",
       "      <td>14.0</td>\n",
       "    </tr>\n",
       "    <tr>\n",
       "      <th>91</th>\n",
       "      <td>36.0</td>\n",
       "      <td>14000.0</td>\n",
       "      <td>492.34</td>\n",
       "      <td>16.02</td>\n",
       "      <td>75000.0</td>\n",
       "      <td>7.0</td>\n",
       "      <td>90.0</td>\n",
       "      <td>2700.0</td>\n",
       "      <td>0.0</td>\n",
       "      <td>4.0</td>\n",
       "      <td>...</td>\n",
       "      <td>0.0</td>\n",
       "      <td>14000.0</td>\n",
       "      <td>14000.0</td>\n",
       "      <td>14375.136851</td>\n",
       "      <td>1.0</td>\n",
       "      <td>2.0</td>\n",
       "      <td>2.0</td>\n",
       "      <td>1.0</td>\n",
       "      <td>2.0</td>\n",
       "      <td>14.0</td>\n",
       "    </tr>\n",
       "    <tr>\n",
       "      <th>...</th>\n",
       "      <td>...</td>\n",
       "      <td>...</td>\n",
       "      <td>...</td>\n",
       "      <td>...</td>\n",
       "      <td>...</td>\n",
       "      <td>...</td>\n",
       "      <td>...</td>\n",
       "      <td>...</td>\n",
       "      <td>...</td>\n",
       "      <td>...</td>\n",
       "      <td>...</td>\n",
       "      <td>...</td>\n",
       "      <td>...</td>\n",
       "      <td>...</td>\n",
       "      <td>...</td>\n",
       "      <td>...</td>\n",
       "      <td>...</td>\n",
       "      <td>...</td>\n",
       "      <td>...</td>\n",
       "      <td>...</td>\n",
       "      <td>...</td>\n",
       "    </tr>\n",
       "    <tr>\n",
       "      <th>105423</th>\n",
       "      <td>36.0</td>\n",
       "      <td>6000.0</td>\n",
       "      <td>216.89</td>\n",
       "      <td>17.99</td>\n",
       "      <td>49000.0</td>\n",
       "      <td>9.0</td>\n",
       "      <td>95.1</td>\n",
       "      <td>15972.0</td>\n",
       "      <td>0.0</td>\n",
       "      <td>12.0</td>\n",
       "      <td>...</td>\n",
       "      <td>0.0</td>\n",
       "      <td>6000.0</td>\n",
       "      <td>6000.0</td>\n",
       "      <td>6663.613679</td>\n",
       "      <td>1.0</td>\n",
       "      <td>1.0</td>\n",
       "      <td>2.0</td>\n",
       "      <td>1.0</td>\n",
       "      <td>3.0</td>\n",
       "      <td>16.0</td>\n",
       "    </tr>\n",
       "    <tr>\n",
       "      <th>105426</th>\n",
       "      <td>60.0</td>\n",
       "      <td>25275.0</td>\n",
       "      <td>797.52</td>\n",
       "      <td>28.69</td>\n",
       "      <td>98000.0</td>\n",
       "      <td>5.0</td>\n",
       "      <td>72.0</td>\n",
       "      <td>23099.0</td>\n",
       "      <td>1.0</td>\n",
       "      <td>15.0</td>\n",
       "      <td>...</td>\n",
       "      <td>1.0</td>\n",
       "      <td>25275.0</td>\n",
       "      <td>25275.0</td>\n",
       "      <td>27664.954786</td>\n",
       "      <td>1.0</td>\n",
       "      <td>2.0</td>\n",
       "      <td>0.0</td>\n",
       "      <td>1.0</td>\n",
       "      <td>5.0</td>\n",
       "      <td>25.0</td>\n",
       "    </tr>\n",
       "    <tr>\n",
       "      <th>105440</th>\n",
       "      <td>36.0</td>\n",
       "      <td>1000.0</td>\n",
       "      <td>34.67</td>\n",
       "      <td>14.99</td>\n",
       "      <td>27000.0</td>\n",
       "      <td>1.0</td>\n",
       "      <td>47.5</td>\n",
       "      <td>5608.0</td>\n",
       "      <td>0.0</td>\n",
       "      <td>7.0</td>\n",
       "      <td>...</td>\n",
       "      <td>0.0</td>\n",
       "      <td>1000.0</td>\n",
       "      <td>1000.0</td>\n",
       "      <td>1014.918899</td>\n",
       "      <td>3.0</td>\n",
       "      <td>2.0</td>\n",
       "      <td>2.0</td>\n",
       "      <td>1.0</td>\n",
       "      <td>2.0</td>\n",
       "      <td>13.0</td>\n",
       "    </tr>\n",
       "    <tr>\n",
       "      <th>105443</th>\n",
       "      <td>60.0</td>\n",
       "      <td>35000.0</td>\n",
       "      <td>814.21</td>\n",
       "      <td>13.99</td>\n",
       "      <td>100000.0</td>\n",
       "      <td>1.0</td>\n",
       "      <td>14.2</td>\n",
       "      <td>3162.0</td>\n",
       "      <td>1.0</td>\n",
       "      <td>9.0</td>\n",
       "      <td>...</td>\n",
       "      <td>1.0</td>\n",
       "      <td>35000.0</td>\n",
       "      <td>35000.0</td>\n",
       "      <td>37889.638884</td>\n",
       "      <td>1.0</td>\n",
       "      <td>2.0</td>\n",
       "      <td>1.0</td>\n",
       "      <td>1.0</td>\n",
       "      <td>2.0</td>\n",
       "      <td>12.0</td>\n",
       "    </tr>\n",
       "    <tr>\n",
       "      <th>105450</th>\n",
       "      <td>60.0</td>\n",
       "      <td>30000.0</td>\n",
       "      <td>889.18</td>\n",
       "      <td>25.49</td>\n",
       "      <td>105700.0</td>\n",
       "      <td>4.0</td>\n",
       "      <td>72.6</td>\n",
       "      <td>15252.0</td>\n",
       "      <td>0.0</td>\n",
       "      <td>12.0</td>\n",
       "      <td>...</td>\n",
       "      <td>0.0</td>\n",
       "      <td>30000.0</td>\n",
       "      <td>30000.0</td>\n",
       "      <td>1236.630000</td>\n",
       "      <td>1.0</td>\n",
       "      <td>2.0</td>\n",
       "      <td>2.0</td>\n",
       "      <td>0.0</td>\n",
       "      <td>4.0</td>\n",
       "      <td>23.0</td>\n",
       "    </tr>\n",
       "  </tbody>\n",
       "</table>\n",
       "<p>13310 rows × 25 columns</p>\n",
       "</div>"
      ],
      "text/plain": [
       "        term  loan_amnt  installment  int_rate  annual_inc  emp_length  \\\n",
       "8       36.0    11575.0       359.26      7.35    153000.0         6.0   \n",
       "10      36.0     7200.0       285.70     24.85     50000.0         2.0   \n",
       "24      36.0     7500.0       232.79      7.35    110000.0         7.0   \n",
       "42      60.0    10000.0       243.29     16.02     51979.0         7.0   \n",
       "91      36.0    14000.0       492.34     16.02     75000.0         7.0   \n",
       "...      ...        ...          ...       ...         ...         ...   \n",
       "105423  36.0     6000.0       216.89     17.99     49000.0         9.0   \n",
       "105426  60.0    25275.0       797.52     28.69     98000.0         5.0   \n",
       "105440  36.0     1000.0        34.67     14.99     27000.0         1.0   \n",
       "105443  60.0    35000.0       814.21     13.99    100000.0         1.0   \n",
       "105450  60.0    30000.0       889.18     25.49    105700.0         4.0   \n",
       "\n",
       "        revol_util  revol_bal  pub_rec  open_acc  ...  pub_rec_bankruptcies  \\\n",
       "8             22.7     8550.0      1.0      20.0  ...                   1.0   \n",
       "10            98.9     3560.0      0.0       4.0  ...                   0.0   \n",
       "24            27.2    23348.0      0.0      19.0  ...                   0.0   \n",
       "42            20.0     5733.0      2.0      15.0  ...                   2.0   \n",
       "91            90.0     2700.0      0.0       4.0  ...                   0.0   \n",
       "...            ...        ...      ...       ...  ...                   ...   \n",
       "105423        95.1    15972.0      0.0      12.0  ...                   0.0   \n",
       "105426        72.0    23099.0      1.0      15.0  ...                   1.0   \n",
       "105440        47.5     5608.0      0.0       7.0  ...                   0.0   \n",
       "105443        14.2     3162.0      1.0       9.0  ...                   1.0   \n",
       "105450        72.6    15252.0      0.0      12.0  ...                   0.0   \n",
       "\n",
       "        funded_amnt_inv  funded_amnt   total_pymnt  home_ownership  purpose  \\\n",
       "8               11575.0      11575.0  11707.816236             2.0      1.0   \n",
       "10               7200.0       7200.0   7206.461000             3.0      2.0   \n",
       "24               7500.0       7500.0   7642.289180             1.0      2.0   \n",
       "42              10000.0      10000.0  10026.700000             3.0      2.0   \n",
       "91              14000.0      14000.0  14375.136851             1.0      2.0   \n",
       "...                 ...          ...           ...             ...      ...   \n",
       "105423           6000.0       6000.0   6663.613679             1.0      1.0   \n",
       "105426          25275.0      25275.0  27664.954786             1.0      2.0   \n",
       "105440           1000.0       1000.0   1014.918899             3.0      2.0   \n",
       "105443          35000.0      35000.0  37889.638884             1.0      2.0   \n",
       "105450          30000.0      30000.0   1236.630000             1.0      2.0   \n",
       "\n",
       "        verification_status  loan_status  grade  sub_grade  \n",
       "8                       0.0          1.0    0.0        3.0  \n",
       "10                      1.0          1.0    4.0       22.0  \n",
       "24                      0.0          1.0    0.0        3.0  \n",
       "42                      1.0          1.0    2.0       14.0  \n",
       "91                      2.0          1.0    2.0       14.0  \n",
       "...                     ...          ...    ...        ...  \n",
       "105423                  2.0          1.0    3.0       16.0  \n",
       "105426                  0.0          1.0    5.0       25.0  \n",
       "105440                  2.0          1.0    2.0       13.0  \n",
       "105443                  1.0          1.0    2.0       12.0  \n",
       "105450                  2.0          0.0    4.0       23.0  \n",
       "\n",
       "[13310 rows x 25 columns]"
      ]
     },
     "execution_count": 57,
     "metadata": {},
     "output_type": "execute_result"
    }
   ],
   "source": [
    "numerical = sub_loans.select_dtypes(include = [np.number])\n",
    "numerical"
   ]
  },
  {
   "cell_type": "code",
   "execution_count": 58,
   "metadata": {},
   "outputs": [],
   "source": [
    "for col in numerical.columns:\n",
    "    percentiles = numerical[col].quantile([0.01,0.99]).values\n",
    "    numerical[col] = np.clip(numerical[col], percentiles[0], percentiles[1])"
   ]
  },
  {
   "cell_type": "code",
   "execution_count": 59,
   "metadata": {},
   "outputs": [
    {
     "data": {
      "text/html": [
       "<div>\n",
       "<style scoped>\n",
       "    .dataframe tbody tr th:only-of-type {\n",
       "        vertical-align: middle;\n",
       "    }\n",
       "\n",
       "    .dataframe tbody tr th {\n",
       "        vertical-align: top;\n",
       "    }\n",
       "\n",
       "    .dataframe thead th {\n",
       "        text-align: right;\n",
       "    }\n",
       "</style>\n",
       "<table border=\"1\" class=\"dataframe\">\n",
       "  <thead>\n",
       "    <tr style=\"text-align: right;\">\n",
       "      <th></th>\n",
       "      <th>term</th>\n",
       "      <th>loan_amnt</th>\n",
       "      <th>installment</th>\n",
       "      <th>int_rate</th>\n",
       "      <th>annual_inc</th>\n",
       "      <th>emp_length</th>\n",
       "      <th>revol_util</th>\n",
       "      <th>revol_bal</th>\n",
       "      <th>pub_rec</th>\n",
       "      <th>open_acc</th>\n",
       "      <th>...</th>\n",
       "      <th>pub_rec_bankruptcies</th>\n",
       "      <th>funded_amnt_inv</th>\n",
       "      <th>funded_amnt</th>\n",
       "      <th>total_pymnt</th>\n",
       "      <th>home_ownership</th>\n",
       "      <th>purpose</th>\n",
       "      <th>verification_status</th>\n",
       "      <th>loan_status</th>\n",
       "      <th>grade</th>\n",
       "      <th>sub_grade</th>\n",
       "    </tr>\n",
       "  </thead>\n",
       "  <tbody>\n",
       "    <tr>\n",
       "      <th>count</th>\n",
       "      <td>13310.000000</td>\n",
       "      <td>13310.000000</td>\n",
       "      <td>13310.000000</td>\n",
       "      <td>13310.000000</td>\n",
       "      <td>13310.000000</td>\n",
       "      <td>13310.000000</td>\n",
       "      <td>13310.000000</td>\n",
       "      <td>13310.000000</td>\n",
       "      <td>13310.000000</td>\n",
       "      <td>13310.000000</td>\n",
       "      <td>...</td>\n",
       "      <td>13310.000000</td>\n",
       "      <td>13310.000000</td>\n",
       "      <td>13310.000000</td>\n",
       "      <td>13310.000000</td>\n",
       "      <td>13310.000000</td>\n",
       "      <td>13310.000000</td>\n",
       "      <td>13310.000000</td>\n",
       "      <td>13310.000000</td>\n",
       "      <td>13310.000000</td>\n",
       "      <td>13310.000000</td>\n",
       "    </tr>\n",
       "    <tr>\n",
       "      <th>mean</th>\n",
       "      <td>42.157776</td>\n",
       "      <td>14299.827198</td>\n",
       "      <td>445.298334</td>\n",
       "      <td>15.081727</td>\n",
       "      <td>79786.891797</td>\n",
       "      <td>6.094140</td>\n",
       "      <td>46.933794</td>\n",
       "      <td>15484.297636</td>\n",
       "      <td>0.258452</td>\n",
       "      <td>11.953494</td>\n",
       "      <td>...</td>\n",
       "      <td>0.150113</td>\n",
       "      <td>14296.034936</td>\n",
       "      <td>14299.827198</td>\n",
       "      <td>10398.071377</td>\n",
       "      <td>1.843802</td>\n",
       "      <td>2.808415</td>\n",
       "      <td>0.978212</td>\n",
       "      <td>0.679414</td>\n",
       "      <td>2.046131</td>\n",
       "      <td>12.226897</td>\n",
       "    </tr>\n",
       "    <tr>\n",
       "      <th>std</th>\n",
       "      <td>10.482208</td>\n",
       "      <td>9564.956237</td>\n",
       "      <td>297.152351</td>\n",
       "      <td>6.070540</td>\n",
       "      <td>47268.248400</td>\n",
       "      <td>3.495057</td>\n",
       "      <td>25.190262</td>\n",
       "      <td>16813.690631</td>\n",
       "      <td>0.557258</td>\n",
       "      <td>5.609089</td>\n",
       "      <td>...</td>\n",
       "      <td>0.357195</td>\n",
       "      <td>9561.897619</td>\n",
       "      <td>9564.956237</td>\n",
       "      <td>9904.971530</td>\n",
       "      <td>0.921857</td>\n",
       "      <td>2.271911</td>\n",
       "      <td>0.779542</td>\n",
       "      <td>0.466719</td>\n",
       "      <td>1.367585</td>\n",
       "      <td>6.793957</td>\n",
       "    </tr>\n",
       "    <tr>\n",
       "      <th>min</th>\n",
       "      <td>36.000000</td>\n",
       "      <td>1200.000000</td>\n",
       "      <td>40.328700</td>\n",
       "      <td>5.320000</td>\n",
       "      <td>17000.000000</td>\n",
       "      <td>1.000000</td>\n",
       "      <td>0.300000</td>\n",
       "      <td>66.270000</td>\n",
       "      <td>0.000000</td>\n",
       "      <td>3.000000</td>\n",
       "      <td>...</td>\n",
       "      <td>0.000000</td>\n",
       "      <td>1200.000000</td>\n",
       "      <td>1200.000000</td>\n",
       "      <td>98.168000</td>\n",
       "      <td>1.000000</td>\n",
       "      <td>0.000000</td>\n",
       "      <td>0.000000</td>\n",
       "      <td>0.000000</td>\n",
       "      <td>0.000000</td>\n",
       "      <td>0.000000</td>\n",
       "    </tr>\n",
       "    <tr>\n",
       "      <th>25%</th>\n",
       "      <td>36.000000</td>\n",
       "      <td>6600.000000</td>\n",
       "      <td>222.990000</td>\n",
       "      <td>10.910000</td>\n",
       "      <td>50000.000000</td>\n",
       "      <td>3.000000</td>\n",
       "      <td>27.200000</td>\n",
       "      <td>5368.500000</td>\n",
       "      <td>0.000000</td>\n",
       "      <td>8.000000</td>\n",
       "      <td>...</td>\n",
       "      <td>0.000000</td>\n",
       "      <td>6600.000000</td>\n",
       "      <td>6600.000000</td>\n",
       "      <td>2554.316661</td>\n",
       "      <td>1.000000</td>\n",
       "      <td>2.000000</td>\n",
       "      <td>0.000000</td>\n",
       "      <td>0.000000</td>\n",
       "      <td>1.000000</td>\n",
       "      <td>8.000000</td>\n",
       "    </tr>\n",
       "    <tr>\n",
       "      <th>50%</th>\n",
       "      <td>36.000000</td>\n",
       "      <td>12000.000000</td>\n",
       "      <td>361.830000</td>\n",
       "      <td>13.990000</td>\n",
       "      <td>70000.000000</td>\n",
       "      <td>6.000000</td>\n",
       "      <td>46.400000</td>\n",
       "      <td>10665.000000</td>\n",
       "      <td>0.000000</td>\n",
       "      <td>11.000000</td>\n",
       "      <td>...</td>\n",
       "      <td>0.000000</td>\n",
       "      <td>12000.000000</td>\n",
       "      <td>12000.000000</td>\n",
       "      <td>7014.831389</td>\n",
       "      <td>1.000000</td>\n",
       "      <td>2.000000</td>\n",
       "      <td>1.000000</td>\n",
       "      <td>1.000000</td>\n",
       "      <td>2.000000</td>\n",
       "      <td>12.000000</td>\n",
       "    </tr>\n",
       "    <tr>\n",
       "      <th>75%</th>\n",
       "      <td>60.000000</td>\n",
       "      <td>20000.000000</td>\n",
       "      <td>603.210000</td>\n",
       "      <td>17.990000</td>\n",
       "      <td>97276.250000</td>\n",
       "      <td>10.000000</td>\n",
       "      <td>66.000000</td>\n",
       "      <td>19355.000000</td>\n",
       "      <td>0.000000</td>\n",
       "      <td>15.000000</td>\n",
       "      <td>...</td>\n",
       "      <td>0.000000</td>\n",
       "      <td>20000.000000</td>\n",
       "      <td>20000.000000</td>\n",
       "      <td>15449.591131</td>\n",
       "      <td>3.000000</td>\n",
       "      <td>3.000000</td>\n",
       "      <td>2.000000</td>\n",
       "      <td>1.000000</td>\n",
       "      <td>3.000000</td>\n",
       "      <td>16.000000</td>\n",
       "    </tr>\n",
       "    <tr>\n",
       "      <th>max</th>\n",
       "      <td>60.000000</td>\n",
       "      <td>40000.000000</td>\n",
       "      <td>1315.774300</td>\n",
       "      <td>30.840000</td>\n",
       "      <td>300000.000000</td>\n",
       "      <td>10.000000</td>\n",
       "      <td>97.900000</td>\n",
       "      <td>109358.540000</td>\n",
       "      <td>3.000000</td>\n",
       "      <td>31.000000</td>\n",
       "      <td>...</td>\n",
       "      <td>1.000000</td>\n",
       "      <td>40000.000000</td>\n",
       "      <td>40000.000000</td>\n",
       "      <td>39384.666099</td>\n",
       "      <td>3.000000</td>\n",
       "      <td>11.000000</td>\n",
       "      <td>2.000000</td>\n",
       "      <td>1.000000</td>\n",
       "      <td>6.000000</td>\n",
       "      <td>31.000000</td>\n",
       "    </tr>\n",
       "  </tbody>\n",
       "</table>\n",
       "<p>8 rows × 25 columns</p>\n",
       "</div>"
      ],
      "text/plain": [
       "               term     loan_amnt   installment      int_rate     annual_inc  \\\n",
       "count  13310.000000  13310.000000  13310.000000  13310.000000   13310.000000   \n",
       "mean      42.157776  14299.827198    445.298334     15.081727   79786.891797   \n",
       "std       10.482208   9564.956237    297.152351      6.070540   47268.248400   \n",
       "min       36.000000   1200.000000     40.328700      5.320000   17000.000000   \n",
       "25%       36.000000   6600.000000    222.990000     10.910000   50000.000000   \n",
       "50%       36.000000  12000.000000    361.830000     13.990000   70000.000000   \n",
       "75%       60.000000  20000.000000    603.210000     17.990000   97276.250000   \n",
       "max       60.000000  40000.000000   1315.774300     30.840000  300000.000000   \n",
       "\n",
       "         emp_length    revol_util      revol_bal       pub_rec      open_acc  \\\n",
       "count  13310.000000  13310.000000   13310.000000  13310.000000  13310.000000   \n",
       "mean       6.094140     46.933794   15484.297636      0.258452     11.953494   \n",
       "std        3.495057     25.190262   16813.690631      0.557258      5.609089   \n",
       "min        1.000000      0.300000      66.270000      0.000000      3.000000   \n",
       "25%        3.000000     27.200000    5368.500000      0.000000      8.000000   \n",
       "50%        6.000000     46.400000   10665.000000      0.000000     11.000000   \n",
       "75%       10.000000     66.000000   19355.000000      0.000000     15.000000   \n",
       "max       10.000000     97.900000  109358.540000      3.000000     31.000000   \n",
       "\n",
       "       ...  pub_rec_bankruptcies  funded_amnt_inv   funded_amnt   total_pymnt  \\\n",
       "count  ...          13310.000000     13310.000000  13310.000000  13310.000000   \n",
       "mean   ...              0.150113     14296.034936  14299.827198  10398.071377   \n",
       "std    ...              0.357195      9561.897619   9564.956237   9904.971530   \n",
       "min    ...              0.000000      1200.000000   1200.000000     98.168000   \n",
       "25%    ...              0.000000      6600.000000   6600.000000   2554.316661   \n",
       "50%    ...              0.000000     12000.000000  12000.000000   7014.831389   \n",
       "75%    ...              0.000000     20000.000000  20000.000000  15449.591131   \n",
       "max    ...              1.000000     40000.000000  40000.000000  39384.666099   \n",
       "\n",
       "       home_ownership       purpose  verification_status   loan_status  \\\n",
       "count    13310.000000  13310.000000         13310.000000  13310.000000   \n",
       "mean         1.843802      2.808415             0.978212      0.679414   \n",
       "std          0.921857      2.271911             0.779542      0.466719   \n",
       "min          1.000000      0.000000             0.000000      0.000000   \n",
       "25%          1.000000      2.000000             0.000000      0.000000   \n",
       "50%          1.000000      2.000000             1.000000      1.000000   \n",
       "75%          3.000000      3.000000             2.000000      1.000000   \n",
       "max          3.000000     11.000000             2.000000      1.000000   \n",
       "\n",
       "              grade     sub_grade  \n",
       "count  13310.000000  13310.000000  \n",
       "mean       2.046131     12.226897  \n",
       "std        1.367585      6.793957  \n",
       "min        0.000000      0.000000  \n",
       "25%        1.000000      8.000000  \n",
       "50%        2.000000     12.000000  \n",
       "75%        3.000000     16.000000  \n",
       "max        6.000000     31.000000  \n",
       "\n",
       "[8 rows x 25 columns]"
      ]
     },
     "execution_count": 59,
     "metadata": {},
     "output_type": "execute_result"
    }
   ],
   "source": [
    "numerical.describe()"
   ]
  },
  {
   "cell_type": "markdown",
   "metadata": {},
   "source": [
    "## Scaling"
   ]
  },
  {
   "cell_type": "code",
   "execution_count": 60,
   "metadata": {},
   "outputs": [
    {
     "name": "stdout",
     "output_type": "stream",
     "text": [
      "<class 'pandas.core.frame.DataFrame'>\n",
      "Int64Index: 13310 entries, 8 to 105450\n",
      "Data columns (total 25 columns):\n",
      " #   Column                Non-Null Count  Dtype  \n",
      "---  ------                --------------  -----  \n",
      " 0   term                  13310 non-null  float64\n",
      " 1   loan_amnt             13310 non-null  float64\n",
      " 2   installment           13310 non-null  float64\n",
      " 3   int_rate              13310 non-null  float64\n",
      " 4   annual_inc            13310 non-null  float64\n",
      " 5   emp_length            13310 non-null  float64\n",
      " 6   revol_util            13310 non-null  float64\n",
      " 7   revol_bal             13310 non-null  float64\n",
      " 8   pub_rec               13310 non-null  float64\n",
      " 9   open_acc              13310 non-null  float64\n",
      " 10  inq_last_6mths        13310 non-null  float64\n",
      " 11  delinq_2yrs           13310 non-null  float64\n",
      " 12  dti                   13310 non-null  float64\n",
      " 13  total_acc             13310 non-null  float64\n",
      " 14  tax_liens             13310 non-null  float64\n",
      " 15  pub_rec_bankruptcies  13310 non-null  float64\n",
      " 16  funded_amnt_inv       13310 non-null  float64\n",
      " 17  funded_amnt           13310 non-null  float64\n",
      " 18  total_pymnt           13310 non-null  float64\n",
      " 19  home_ownership        13310 non-null  float64\n",
      " 20  purpose               13310 non-null  float64\n",
      " 21  verification_status   13310 non-null  float64\n",
      " 22  loan_status           13310 non-null  float64\n",
      " 23  grade                 13310 non-null  float64\n",
      " 24  sub_grade             13310 non-null  float64\n",
      "dtypes: float64(25)\n",
      "memory usage: 3.3 MB\n"
     ]
    }
   ],
   "source": [
    "numerical.info()"
   ]
  },
  {
   "cell_type": "code",
   "execution_count": 61,
   "metadata": {},
   "outputs": [],
   "source": [
    "del sub_loans['loan_status']\n",
    "del sub_loans['home_ownership']\n",
    "del sub_loans['purpose']\n",
    "del sub_loans['grade']\n",
    "del sub_loans['sub_grade']\n",
    "del sub_loans['verification_status']\n"
   ]
  },
  {
   "cell_type": "code",
   "execution_count": 62,
   "metadata": {},
   "outputs": [
    {
     "data": {
      "text/html": [
       "<div>\n",
       "<style scoped>\n",
       "    .dataframe tbody tr th:only-of-type {\n",
       "        vertical-align: middle;\n",
       "    }\n",
       "\n",
       "    .dataframe tbody tr th {\n",
       "        vertical-align: top;\n",
       "    }\n",
       "\n",
       "    .dataframe thead th {\n",
       "        text-align: right;\n",
       "    }\n",
       "</style>\n",
       "<table border=\"1\" class=\"dataframe\">\n",
       "  <thead>\n",
       "    <tr style=\"text-align: right;\">\n",
       "      <th></th>\n",
       "      <th>term</th>\n",
       "      <th>loan_amnt</th>\n",
       "      <th>installment</th>\n",
       "      <th>int_rate</th>\n",
       "      <th>annual_inc</th>\n",
       "      <th>emp_length</th>\n",
       "      <th>revol_util</th>\n",
       "      <th>revol_bal</th>\n",
       "      <th>pub_rec</th>\n",
       "      <th>open_acc</th>\n",
       "      <th>inq_last_6mths</th>\n",
       "      <th>delinq_2yrs</th>\n",
       "      <th>dti</th>\n",
       "      <th>total_acc</th>\n",
       "      <th>tax_liens</th>\n",
       "      <th>pub_rec_bankruptcies</th>\n",
       "      <th>funded_amnt_inv</th>\n",
       "      <th>funded_amnt</th>\n",
       "      <th>total_pymnt</th>\n",
       "    </tr>\n",
       "  </thead>\n",
       "  <tbody>\n",
       "    <tr>\n",
       "      <th>8</th>\n",
       "      <td>36.0</td>\n",
       "      <td>11575.0</td>\n",
       "      <td>359.26</td>\n",
       "      <td>7.35</td>\n",
       "      <td>153000.0</td>\n",
       "      <td>6.0</td>\n",
       "      <td>22.7</td>\n",
       "      <td>8550.0</td>\n",
       "      <td>1.0</td>\n",
       "      <td>20.0</td>\n",
       "      <td>0.0</td>\n",
       "      <td>0.0</td>\n",
       "      <td>16.99</td>\n",
       "      <td>46.0</td>\n",
       "      <td>0.0</td>\n",
       "      <td>1.0</td>\n",
       "      <td>11575.0</td>\n",
       "      <td>11575.0</td>\n",
       "      <td>11707.816236</td>\n",
       "    </tr>\n",
       "    <tr>\n",
       "      <th>10</th>\n",
       "      <td>36.0</td>\n",
       "      <td>7200.0</td>\n",
       "      <td>285.70</td>\n",
       "      <td>24.85</td>\n",
       "      <td>50000.0</td>\n",
       "      <td>2.0</td>\n",
       "      <td>98.9</td>\n",
       "      <td>3560.0</td>\n",
       "      <td>0.0</td>\n",
       "      <td>4.0</td>\n",
       "      <td>0.0</td>\n",
       "      <td>0.0</td>\n",
       "      <td>6.07</td>\n",
       "      <td>5.0</td>\n",
       "      <td>0.0</td>\n",
       "      <td>0.0</td>\n",
       "      <td>7200.0</td>\n",
       "      <td>7200.0</td>\n",
       "      <td>7206.461000</td>\n",
       "    </tr>\n",
       "    <tr>\n",
       "      <th>24</th>\n",
       "      <td>36.0</td>\n",
       "      <td>7500.0</td>\n",
       "      <td>232.79</td>\n",
       "      <td>7.35</td>\n",
       "      <td>110000.0</td>\n",
       "      <td>7.0</td>\n",
       "      <td>27.2</td>\n",
       "      <td>23348.0</td>\n",
       "      <td>0.0</td>\n",
       "      <td>19.0</td>\n",
       "      <td>2.0</td>\n",
       "      <td>0.0</td>\n",
       "      <td>13.12</td>\n",
       "      <td>27.0</td>\n",
       "      <td>0.0</td>\n",
       "      <td>0.0</td>\n",
       "      <td>7500.0</td>\n",
       "      <td>7500.0</td>\n",
       "      <td>7642.289180</td>\n",
       "    </tr>\n",
       "    <tr>\n",
       "      <th>42</th>\n",
       "      <td>60.0</td>\n",
       "      <td>10000.0</td>\n",
       "      <td>243.29</td>\n",
       "      <td>16.02</td>\n",
       "      <td>51979.0</td>\n",
       "      <td>7.0</td>\n",
       "      <td>20.0</td>\n",
       "      <td>5733.0</td>\n",
       "      <td>2.0</td>\n",
       "      <td>15.0</td>\n",
       "      <td>0.0</td>\n",
       "      <td>0.0</td>\n",
       "      <td>10.11</td>\n",
       "      <td>21.0</td>\n",
       "      <td>0.0</td>\n",
       "      <td>2.0</td>\n",
       "      <td>10000.0</td>\n",
       "      <td>10000.0</td>\n",
       "      <td>10026.700000</td>\n",
       "    </tr>\n",
       "    <tr>\n",
       "      <th>91</th>\n",
       "      <td>36.0</td>\n",
       "      <td>14000.0</td>\n",
       "      <td>492.34</td>\n",
       "      <td>16.02</td>\n",
       "      <td>75000.0</td>\n",
       "      <td>7.0</td>\n",
       "      <td>90.0</td>\n",
       "      <td>2700.0</td>\n",
       "      <td>0.0</td>\n",
       "      <td>4.0</td>\n",
       "      <td>0.0</td>\n",
       "      <td>1.0</td>\n",
       "      <td>10.86</td>\n",
       "      <td>10.0</td>\n",
       "      <td>0.0</td>\n",
       "      <td>0.0</td>\n",
       "      <td>14000.0</td>\n",
       "      <td>14000.0</td>\n",
       "      <td>14375.136851</td>\n",
       "    </tr>\n",
       "    <tr>\n",
       "      <th>...</th>\n",
       "      <td>...</td>\n",
       "      <td>...</td>\n",
       "      <td>...</td>\n",
       "      <td>...</td>\n",
       "      <td>...</td>\n",
       "      <td>...</td>\n",
       "      <td>...</td>\n",
       "      <td>...</td>\n",
       "      <td>...</td>\n",
       "      <td>...</td>\n",
       "      <td>...</td>\n",
       "      <td>...</td>\n",
       "      <td>...</td>\n",
       "      <td>...</td>\n",
       "      <td>...</td>\n",
       "      <td>...</td>\n",
       "      <td>...</td>\n",
       "      <td>...</td>\n",
       "      <td>...</td>\n",
       "    </tr>\n",
       "    <tr>\n",
       "      <th>105423</th>\n",
       "      <td>36.0</td>\n",
       "      <td>6000.0</td>\n",
       "      <td>216.89</td>\n",
       "      <td>17.99</td>\n",
       "      <td>49000.0</td>\n",
       "      <td>9.0</td>\n",
       "      <td>95.1</td>\n",
       "      <td>15972.0</td>\n",
       "      <td>0.0</td>\n",
       "      <td>12.0</td>\n",
       "      <td>2.0</td>\n",
       "      <td>1.0</td>\n",
       "      <td>25.32</td>\n",
       "      <td>22.0</td>\n",
       "      <td>0.0</td>\n",
       "      <td>0.0</td>\n",
       "      <td>6000.0</td>\n",
       "      <td>6000.0</td>\n",
       "      <td>6663.613679</td>\n",
       "    </tr>\n",
       "    <tr>\n",
       "      <th>105426</th>\n",
       "      <td>60.0</td>\n",
       "      <td>25275.0</td>\n",
       "      <td>797.52</td>\n",
       "      <td>28.69</td>\n",
       "      <td>98000.0</td>\n",
       "      <td>5.0</td>\n",
       "      <td>72.0</td>\n",
       "      <td>23099.0</td>\n",
       "      <td>1.0</td>\n",
       "      <td>15.0</td>\n",
       "      <td>0.0</td>\n",
       "      <td>0.0</td>\n",
       "      <td>26.50</td>\n",
       "      <td>32.0</td>\n",
       "      <td>0.0</td>\n",
       "      <td>1.0</td>\n",
       "      <td>25275.0</td>\n",
       "      <td>25275.0</td>\n",
       "      <td>27664.954786</td>\n",
       "    </tr>\n",
       "    <tr>\n",
       "      <th>105440</th>\n",
       "      <td>36.0</td>\n",
       "      <td>1000.0</td>\n",
       "      <td>34.67</td>\n",
       "      <td>14.99</td>\n",
       "      <td>27000.0</td>\n",
       "      <td>1.0</td>\n",
       "      <td>47.5</td>\n",
       "      <td>5608.0</td>\n",
       "      <td>0.0</td>\n",
       "      <td>7.0</td>\n",
       "      <td>1.0</td>\n",
       "      <td>0.0</td>\n",
       "      <td>9.56</td>\n",
       "      <td>26.0</td>\n",
       "      <td>0.0</td>\n",
       "      <td>0.0</td>\n",
       "      <td>1000.0</td>\n",
       "      <td>1000.0</td>\n",
       "      <td>1014.918899</td>\n",
       "    </tr>\n",
       "    <tr>\n",
       "      <th>105443</th>\n",
       "      <td>60.0</td>\n",
       "      <td>35000.0</td>\n",
       "      <td>814.21</td>\n",
       "      <td>13.99</td>\n",
       "      <td>100000.0</td>\n",
       "      <td>1.0</td>\n",
       "      <td>14.2</td>\n",
       "      <td>3162.0</td>\n",
       "      <td>1.0</td>\n",
       "      <td>9.0</td>\n",
       "      <td>1.0</td>\n",
       "      <td>0.0</td>\n",
       "      <td>8.32</td>\n",
       "      <td>34.0</td>\n",
       "      <td>0.0</td>\n",
       "      <td>1.0</td>\n",
       "      <td>35000.0</td>\n",
       "      <td>35000.0</td>\n",
       "      <td>37889.638884</td>\n",
       "    </tr>\n",
       "    <tr>\n",
       "      <th>105450</th>\n",
       "      <td>60.0</td>\n",
       "      <td>30000.0</td>\n",
       "      <td>889.18</td>\n",
       "      <td>25.49</td>\n",
       "      <td>105700.0</td>\n",
       "      <td>4.0</td>\n",
       "      <td>72.6</td>\n",
       "      <td>15252.0</td>\n",
       "      <td>0.0</td>\n",
       "      <td>12.0</td>\n",
       "      <td>0.0</td>\n",
       "      <td>1.0</td>\n",
       "      <td>27.26</td>\n",
       "      <td>23.0</td>\n",
       "      <td>0.0</td>\n",
       "      <td>0.0</td>\n",
       "      <td>30000.0</td>\n",
       "      <td>30000.0</td>\n",
       "      <td>1236.630000</td>\n",
       "    </tr>\n",
       "  </tbody>\n",
       "</table>\n",
       "<p>13310 rows × 19 columns</p>\n",
       "</div>"
      ],
      "text/plain": [
       "        term  loan_amnt  installment  int_rate  annual_inc  emp_length  \\\n",
       "8       36.0    11575.0       359.26      7.35    153000.0         6.0   \n",
       "10      36.0     7200.0       285.70     24.85     50000.0         2.0   \n",
       "24      36.0     7500.0       232.79      7.35    110000.0         7.0   \n",
       "42      60.0    10000.0       243.29     16.02     51979.0         7.0   \n",
       "91      36.0    14000.0       492.34     16.02     75000.0         7.0   \n",
       "...      ...        ...          ...       ...         ...         ...   \n",
       "105423  36.0     6000.0       216.89     17.99     49000.0         9.0   \n",
       "105426  60.0    25275.0       797.52     28.69     98000.0         5.0   \n",
       "105440  36.0     1000.0        34.67     14.99     27000.0         1.0   \n",
       "105443  60.0    35000.0       814.21     13.99    100000.0         1.0   \n",
       "105450  60.0    30000.0       889.18     25.49    105700.0         4.0   \n",
       "\n",
       "        revol_util  revol_bal  pub_rec  open_acc  inq_last_6mths  delinq_2yrs  \\\n",
       "8             22.7     8550.0      1.0      20.0             0.0          0.0   \n",
       "10            98.9     3560.0      0.0       4.0             0.0          0.0   \n",
       "24            27.2    23348.0      0.0      19.0             2.0          0.0   \n",
       "42            20.0     5733.0      2.0      15.0             0.0          0.0   \n",
       "91            90.0     2700.0      0.0       4.0             0.0          1.0   \n",
       "...            ...        ...      ...       ...             ...          ...   \n",
       "105423        95.1    15972.0      0.0      12.0             2.0          1.0   \n",
       "105426        72.0    23099.0      1.0      15.0             0.0          0.0   \n",
       "105440        47.5     5608.0      0.0       7.0             1.0          0.0   \n",
       "105443        14.2     3162.0      1.0       9.0             1.0          0.0   \n",
       "105450        72.6    15252.0      0.0      12.0             0.0          1.0   \n",
       "\n",
       "          dti  total_acc  tax_liens  pub_rec_bankruptcies  funded_amnt_inv  \\\n",
       "8       16.99       46.0        0.0                   1.0          11575.0   \n",
       "10       6.07        5.0        0.0                   0.0           7200.0   \n",
       "24      13.12       27.0        0.0                   0.0           7500.0   \n",
       "42      10.11       21.0        0.0                   2.0          10000.0   \n",
       "91      10.86       10.0        0.0                   0.0          14000.0   \n",
       "...       ...        ...        ...                   ...              ...   \n",
       "105423  25.32       22.0        0.0                   0.0           6000.0   \n",
       "105426  26.50       32.0        0.0                   1.0          25275.0   \n",
       "105440   9.56       26.0        0.0                   0.0           1000.0   \n",
       "105443   8.32       34.0        0.0                   1.0          35000.0   \n",
       "105450  27.26       23.0        0.0                   0.0          30000.0   \n",
       "\n",
       "        funded_amnt   total_pymnt  \n",
       "8           11575.0  11707.816236  \n",
       "10           7200.0   7206.461000  \n",
       "24           7500.0   7642.289180  \n",
       "42          10000.0  10026.700000  \n",
       "91          14000.0  14375.136851  \n",
       "...             ...           ...  \n",
       "105423       6000.0   6663.613679  \n",
       "105426      25275.0  27664.954786  \n",
       "105440       1000.0   1014.918899  \n",
       "105443      35000.0  37889.638884  \n",
       "105450      30000.0   1236.630000  \n",
       "\n",
       "[13310 rows x 19 columns]"
      ]
     },
     "execution_count": 62,
     "metadata": {},
     "output_type": "execute_result"
    }
   ],
   "source": [
    "sub_loans"
   ]
  },
  {
   "cell_type": "code",
   "execution_count": 63,
   "metadata": {},
   "outputs": [],
   "source": [
    "standard_scaler = StandardScaler()\n",
    "num_scaled = standard_scaler.fit_transform(sub_loans)\n",
    "num_scaled = pd.DataFrame(num_scaled, index = sub_loans.index, columns = sub_loans.columns)"
   ]
  },
  {
   "cell_type": "code",
   "execution_count": 64,
   "metadata": {},
   "outputs": [
    {
     "data": {
      "text/plain": [
       "(13310, 19)"
      ]
     },
     "execution_count": 64,
     "metadata": {},
     "output_type": "execute_result"
    }
   ],
   "source": [
    "num_scaled.shape"
   ]
  },
  {
   "cell_type": "code",
   "execution_count": 65,
   "metadata": {},
   "outputs": [
    {
     "data": {
      "text/plain": [
       "(13310, 6)"
      ]
     },
     "execution_count": 65,
     "metadata": {},
     "output_type": "execute_result"
    }
   ],
   "source": [
    "categorical.shape"
   ]
  },
  {
   "cell_type": "code",
   "execution_count": 66,
   "metadata": {},
   "outputs": [
    {
     "data": {
      "text/plain": [
       "(13310, 25)"
      ]
     },
     "execution_count": 66,
     "metadata": {},
     "output_type": "execute_result"
    }
   ],
   "source": [
    "## Concatening numerics with dummies\n",
    "\n",
    "loan_prepared = pd.merge(num_scaled, categorical, left_index = True, right_index = True)\n",
    "loan_prepared.shape"
   ]
  },
  {
   "cell_type": "markdown",
   "metadata": {},
   "source": [
    "## Support Vector Machine (SVM)"
   ]
  },
  {
   "cell_type": "code",
   "execution_count": 67,
   "metadata": {},
   "outputs": [],
   "source": [
    "svm = pd.read_pickle('./svm_model.pkl')"
   ]
  },
  {
   "cell_type": "code",
   "execution_count": 73,
   "metadata": {},
   "outputs": [],
   "source": [
    "X = loan_prepared.drop(['loan_status'], axis = 1).values\n",
    "y = loan_prepared['loan_status'].values\n",
    "\n",
    "X_train, X_test, y_train, y_test = train_test_split(X, y, test_size = 0.2, random_state = 12345)"
   ]
  },
  {
   "cell_type": "code",
   "execution_count": 78,
   "metadata": {},
   "outputs": [
    {
     "name": "stdout",
     "output_type": "stream",
     "text": [
      "[1. 1. 1. ... 1. 0. 0.]\n"
     ]
    }
   ],
   "source": [
    "prediction = svm.predict(X_test)\n",
    "print(prediction)"
   ]
  },
  {
   "cell_type": "code",
   "execution_count": 74,
   "metadata": {},
   "outputs": [
    {
     "name": "stdout",
     "output_type": "stream",
     "text": [
      "0.7892561983471075\n"
     ]
    }
   ],
   "source": [
    "result = svm.score(X_test, y_test)\n",
    "print(result)"
   ]
  },
  {
   "cell_type": "markdown",
   "metadata": {},
   "source": [
    "## Model Evaluation\n"
   ]
  },
  {
   "cell_type": "markdown",
   "metadata": {},
   "source": [
    "* __Confussion Matrix__"
   ]
  },
  {
   "cell_type": "markdown",
   "metadata": {},
   "source": [
    "In order to be able to illustrate the confusion matrix, a function called plot_confusion_matrix has been defined, indicating the parameters to be taken into account."
   ]
  },
  {
   "cell_type": "code",
   "execution_count": 75,
   "metadata": {},
   "outputs": [],
   "source": [
    "def plot_confusion_matrix(cm, classes,\n",
    "                          normalize=False,\n",
    "                          title='Confusion matrix',\n",
    "                          cmap=plt.cm.Blues):\n",
    "    #Add Normalization Option\n",
    "    if normalize:\n",
    "        cm = cm.astype('float') / cm.sum(axis=1)[:, np.newaxis]\n",
    "        print(\"Normalized confusion matrix\")\n",
    "    else:\n",
    "        print('Confusion matrix, without normalization')\n",
    "\n",
    "    print(cm)\n",
    "\n",
    "    plt.imshow(cm, interpolation='nearest', cmap=cmap)\n",
    "    plt.title(title)\n",
    "    plt.colorbar()\n",
    "    tick_marks = np.arange(len(classes))\n",
    "    plt.xticks(tick_marks, classes, rotation=45)\n",
    "    plt.yticks(tick_marks, classes)\n",
    "\n",
    "    fmt = '.2f' if normalize else 'd'\n",
    "    thresh = cm.max() / 2.\n",
    "    for i, j in itertools.product(range(cm.shape[0]), range(cm.shape[1])):\n",
    "        plt.text(j, i, format(cm[i, j], fmt),\n",
    "                 horizontalalignment=\"center\",\n",
    "                 color=\"white\" if cm[i, j] > thresh else \"black\")\n",
    "\n",
    "    plt.tight_layout()\n",
    "    plt.ylabel('True label')\n",
    "    plt.xlabel('Predicted label')"
   ]
  },
  {
   "cell_type": "markdown",
   "metadata": {},
   "source": [
    "We proceed to graph the confussion matrix:"
   ]
  },
  {
   "cell_type": "code",
   "execution_count": 79,
   "metadata": {},
   "outputs": [
    {
     "name": "stdout",
     "output_type": "stream",
     "text": [
      "Confusion matrix, without normalization\n",
      "[[ 562  309]\n",
      " [ 252 1539]]\n"
     ]
    },
    {
     "data": {
      "image/png": "[encoded data removed]",
      "text/plain": [
       "<Figure size 432x288 with 2 Axes>"
      ]
     },
     "metadata": {
      "needs_background": "light"
     },
     "output_type": "display_data"
    }
   ],
   "source": [
    "cnf_matrix = confusion_matrix(y_test, prediction)\n",
    "plot_confusion_matrix(cnf_matrix, classes=[0,1])"
   ]
  },
  {
   "cell_type": "code",
   "execution_count": 80,
   "metadata": {},
   "outputs": [
    {
     "name": "stdout",
     "output_type": "stream",
     "text": [
      "True Negatives:  562\n",
      "False Positives:  309\n",
      "False Negatives:  252\n",
      "True Positives:  1539\n"
     ]
    }
   ],
   "source": [
    "#extracting true_positives, false_positives, true_negatives, false_negatives\n",
    "tn, fp, fn, tp = confusion_matrix(y_test, prediction).ravel()\n",
    "print(\"True Negatives: \",tn)\n",
    "print(\"False Positives: \",fp)\n",
    "print(\"False Negatives: \",fn)\n",
    "print(\"True Positives: \",tp)"
   ]
  }
 ],
 "metadata": {
  "kernelspec": {
   "display_name": "prestamos_env",
   "language": "python",
   "name": "prestamos_env"
  },
  "language_info": {
   "codemirror_mode": {
    "name": "ipython",
    "version": 3
   },
   "file_extension": ".py",
   "mimetype": "text/x-python",
   "name": "python",
   "nbconvert_exporter": "python",
   "pygments_lexer": "ipython3",
   "version": "3.8.3"
  }
 },
 "nbformat": 4,
 "nbformat_minor": 4
}
