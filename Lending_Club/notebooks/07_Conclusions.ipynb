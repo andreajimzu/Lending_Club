{
 "cells": [
  {
   "cell_type": "markdown",
   "metadata": {},
   "source": [
    "* Authors: Andrea Jiménez Zuñiga e Isabel Afán de Ribera\n",
    "* Date: 04/12/2020\n",
    "* Institution: CUNEF"
   ]
  },
  {
   "cell_type": "markdown",
   "metadata": {},
   "source": [
    "# 07. Conclusions"
   ]
  },
  {
   "cell_type": "markdown",
   "metadata": {},
   "source": [
    "Our goal is to build an algorithmic model that helps us identify to what type of customers we could grant a loan based on a set of classification variables. To do this, we start with a database which contains customer information stydying this with an EDA. \n",
    "\n",
    "From this study, we have acquired a general idea of the data that helped us to treat the mentioned data. We have found variables with a high percentage of missing values, numerical and categorical variables, variables with outliers, etc. Therefore we have made a treatment of our data, where we have eliminated those variables that do not provide relevant information to our model, making decisions about whether to impute or eliminate missing values, treatment of outliers, treatment of variables, among others.\n",
    "As a result, we have selected a total of 25 of the most representative variables. \n",
    "\n",
    "Finally, we have developed models to be able to make predictions. These are: \n",
    "\n",
    "1. Model Baseline and Logistic Regression\n",
    "2. Support Vector Machine\n",
    "3. Random Forest\n",
    "4. XGBoost\n",
    "\n",
    "After evaluating the models and comparing our predictive results with the test data set we have decided that our best model is the Support Vector Machine as it gives a high accuracy and presents the advantages that is chosen by many as it produces significant accuracy with less computation power. \n"
   ]
  }
 ],
 "metadata": {
  "kernelspec": {
   "display_name": "prestamos_env",
   "language": "python",
   "name": "prestamos_env"
  },
  "language_info": {
   "codemirror_mode": {
    "name": "ipython",
    "version": 3
   },
   "file_extension": ".py",
   "mimetype": "text/x-python",
   "name": "python",
   "nbconvert_exporter": "python",
   "pygments_lexer": "ipython3",
   "version": "3.8.3"
  }
 },
 "nbformat": 4,
 "nbformat_minor": 4
}
